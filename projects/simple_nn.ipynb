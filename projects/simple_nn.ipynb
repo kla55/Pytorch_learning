{
  "nbformat": 4,
  "nbformat_minor": 0,
  "metadata": {
    "colab": {
      "provenance": [],
      "gpuType": "T4",
      "authorship_tag": "ABX9TyPFOq3S0KC4X8JffQ+BIbyt",
      "include_colab_link": true
    },
    "kernelspec": {
      "name": "python3",
      "display_name": "Python 3"
    },
    "language_info": {
      "name": "python"
    },
    "accelerator": "GPU"
  },
  "cells": [
    {
      "cell_type": "markdown",
      "metadata": {
        "id": "view-in-github",
        "colab_type": "text"
      },
      "source": [
        "<a href=\"https://colab.research.google.com/github/kla55/Pytorch_learning/blob/main/projects/simple_nn.ipynb\" target=\"_parent\"><img src=\"https://colab.research.google.com/assets/colab-badge.svg\" alt=\"Open In Colab\"/></a>"
      ]
    },
    {
      "cell_type": "code",
      "source": [
        "import os\n",
        "os.environ['CUDA_LAUNCH_BLOCKING'] = \"1\"\n",
        "import torch\n",
        "\n",
        "import os\n",
        "import pandas as pd\n",
        "import numpy as np\n",
        "import seaborn as sns\n",
        "import matplotlib.pyplot as plt\n",
        "import torch\n",
        "import torchvision\n",
        "from torch.autograd import Variable\n",
        "from torch.utils.data import Dataset\n",
        "from torchvision.transforms import ToTensor\n",
        "from torchvision import datasets\n",
        "from torch.utils.data import DataLoader\n",
        "from torch import optim"
      ],
      "metadata": {
        "id": "QlnB7LRTPNeq"
      },
      "execution_count": 1,
      "outputs": []
    },
    {
      "cell_type": "code",
      "source": [
        "device = 'cuda' if torch.cuda.is_available() else 'cpu'\n",
        "device"
      ],
      "metadata": {
        "colab": {
          "base_uri": "https://localhost:8080/",
          "height": 36
        },
        "id": "lHtHL7C7c4ZQ",
        "outputId": "5e7865b7-fa13-4e16-9f93-0e9bd86bd22e"
      },
      "execution_count": 2,
      "outputs": [
        {
          "output_type": "execute_result",
          "data": {
            "text/plain": [
              "'cuda'"
            ],
            "application/vnd.google.colaboratory.intrinsic+json": {
              "type": "string"
            }
          },
          "metadata": {},
          "execution_count": 2
        }
      ]
    },
    {
      "cell_type": "code",
      "source": [
        "import torchvision.transforms as transforms\n",
        "\n",
        "from torchvision.transforms import ToTensor, Resize, Compose\n",
        "\n",
        "\n",
        "transformations = Compose([\n",
        "    Resize((28, 28)),  # Resize each image to 256x256\n",
        "    ToTensor()           # Then convert them to Tensor\n",
        "])"
      ],
      "metadata": {
        "id": "o3a2hpGJrWOS"
      },
      "execution_count": 3,
      "outputs": []
    },
    {
      "cell_type": "code",
      "source": [
        "train_data = datasets.Food101(\n",
        "    root=\"data\",\n",
        "    split='train',\n",
        "    download=True,\n",
        "    transform=transformations\n",
        ")\n",
        "\n",
        "test_data = datasets.Food101(\n",
        "    root=\"data\",\n",
        "    split='test',\n",
        "    download=True,\n",
        "    transform=transformations\n",
        ")"
      ],
      "metadata": {
        "id": "ZtSUArA9PNhf",
        "colab": {
          "base_uri": "https://localhost:8080/"
        },
        "outputId": "a2666cc8-527b-4399-f2d3-c2c31bc65d13"
      },
      "execution_count": 4,
      "outputs": [
        {
          "output_type": "stream",
          "name": "stdout",
          "text": [
            "Downloading https://data.vision.ee.ethz.ch/cvl/food-101.tar.gz to data/food-101.tar.gz\n"
          ]
        },
        {
          "output_type": "stream",
          "name": "stderr",
          "text": [
            "100%|██████████| 4996278331/4996278331 [03:41<00:00, 22550421.86it/s]\n"
          ]
        },
        {
          "output_type": "stream",
          "name": "stdout",
          "text": [
            "Extracting data/food-101.tar.gz to data\n"
          ]
        }
      ]
    },
    {
      "cell_type": "code",
      "source": [
        "num_classes = len(train_data.classes)\n",
        "num_classes"
      ],
      "metadata": {
        "colab": {
          "base_uri": "https://localhost:8080/"
        },
        "id": "frnP0Ut-1sxH",
        "outputId": "1d9c518c-fc1c-4207-bb35-175e202e8017"
      },
      "execution_count": 5,
      "outputs": [
        {
          "output_type": "execute_result",
          "data": {
            "text/plain": [
              "101"
            ]
          },
          "metadata": {},
          "execution_count": 5
        }
      ]
    },
    {
      "cell_type": "code",
      "source": [
        "\n",
        "import matplotlib.pyplot as plt\n",
        "fig = plt.figure(figsize=(10,15))\n",
        "rows, cols = 1, 5\n",
        "for i in range(1, 6):\n",
        "  random_inx = torch.randint(0,len(train_data), size =[1]).item()\n",
        "  print(random_inx)\n",
        "  image, label = train_data[random_inx]\n",
        "  image = np.transpose(image, (1, 2, 0))\n",
        "  fig.add_subplot(rows, cols, i)\n",
        "  plt.imshow(image.squeeze(), cmap = 'gray')\n",
        "  plt.title(train_data.classes[label])\n",
        "  plt.axis(False)\n"
      ],
      "metadata": {
        "colab": {
          "base_uri": "https://localhost:8080/",
          "height": 279
        },
        "id": "bY1dMG680Rp1",
        "outputId": "7cad6c80-898d-42a1-d053-85f727eadb20"
      },
      "execution_count": 6,
      "outputs": [
        {
          "output_type": "stream",
          "name": "stdout",
          "text": [
            "32683\n",
            "17624\n",
            "50578\n",
            "3372\n",
            "8596\n"
          ]
        },
        {
          "output_type": "display_data",
          "data": {
            "text/plain": [
              "<Figure size 1000x1500 with 5 Axes>"
            ],
            "image/png": "[encoded data removed]"
          },
          "metadata": {}
        }
      ]
    },
    {
      "cell_type": "code",
      "source": [
        "from torch.utils.data import DataLoader\n",
        "\n",
        "BATCH_SIZE = 32\n",
        "\n",
        "train_dataloader = DataLoader(train_data,\n",
        "                              batch_size = BATCH_SIZE,\n",
        "                              shuffle = True)\n",
        "\n",
        "test_dataloader = DataLoader(test_data,\n",
        "                             batch_size = BATCH_SIZE,\n",
        "                             shuffle = True)\n",
        "\n",
        "print(f\"Dataloaders: {train_dataloader, test_dataloader}\")\n",
        "print(f\"Length of train dataloader: {len(train_dataloader)} batches of {BATCH_SIZE}\")\n",
        "print(f\"Length of test dataloader: {len(test_dataloader)} batches of {BATCH_SIZE}\")"
      ],
      "metadata": {
        "colab": {
          "base_uri": "https://localhost:8080/"
        },
        "id": "ibngZ30_E7Af",
        "outputId": "e125b6d8-8066-47f0-aa6e-29a1f7ab46ac"
      },
      "execution_count": 7,
      "outputs": [
        {
          "output_type": "stream",
          "name": "stdout",
          "text": [
            "Dataloaders: (<torch.utils.data.dataloader.DataLoader object at 0x79f6cb58ee00>, <torch.utils.data.dataloader.DataLoader object at 0x79f6c33f9630>)\n",
            "Length of train dataloader: 2368 batches of 32\n",
            "Length of test dataloader: 790 batches of 32\n"
          ]
        }
      ]
    },
    {
      "cell_type": "code",
      "source": [
        "train_features, train_labels = next(iter(train_data))"
      ],
      "metadata": {
        "id": "T6LJ0Y_abIjO"
      },
      "execution_count": 9,
      "outputs": []
    },
    {
      "cell_type": "code",
      "source": [
        "train_features.shape"
      ],
      "metadata": {
        "colab": {
          "base_uri": "https://localhost:8080/"
        },
        "id": "bseOvHOca4gl",
        "outputId": "f4c97c8d-173f-4dd5-b4ef-687466934892"
      },
      "execution_count": 10,
      "outputs": [
        {
          "output_type": "execute_result",
          "data": {
            "text/plain": [
              "torch.Size([3, 28, 28])"
            ]
          },
          "metadata": {},
          "execution_count": 10
        }
      ]
    },
    {
      "cell_type": "code",
      "source": [
        "from torch import nn\n",
        "\n",
        "class model_v0(torch.nn.Module):\n",
        "  def __init__(self, input_shape: int,\n",
        "               hidden_units: int,\n",
        "               output_shape: int):\n",
        "    super().__init__()\n",
        "    self.conv_block_1 = nn.Sequential(\n",
        "                    nn.Conv2d(in_channels=input_shape,\n",
        "                              out_channels=hidden_units,\n",
        "                              kernel_size=3,\n",
        "                              stride=1,\n",
        "                              padding=1),\n",
        "                    nn.ReLU(),\n",
        "                    nn.Conv2d(in_channels=hidden_units,\n",
        "                        out_channels=hidden_units,\n",
        "                        kernel_size=3,\n",
        "                        stride=1,\n",
        "                        padding=1),\n",
        "                    nn.ReLU(),\n",
        "                    nn.MaxPool2d(kernel_size=2))\n",
        "\n",
        "    self.conv_block_2 = nn.Sequential(\n",
        "                      nn.Conv2d(in_channels=hidden_units,\n",
        "                                out_channels=hidden_units,\n",
        "                                kernel_size=3,\n",
        "                                stride=1,\n",
        "                                padding=1),\n",
        "                      nn.ReLU(),\n",
        "                      nn.Conv2d(in_channels=hidden_units,\n",
        "                                out_channels=hidden_units,\n",
        "                                kernel_size=3,\n",
        "                                stride=1,\n",
        "                                padding=1),\n",
        "                      nn.ReLU(),\n",
        "                      nn.MaxPool2d(kernel_size=2))\n",
        "\n",
        "    self.classifier = nn.Sequential(\n",
        "                    nn.Flatten(),\n",
        "                    nn.Linear(in_features=hidden_units*7*7,\n",
        "                              out_features=output_shape))\n",
        "\n",
        "  def forward(self, x):\n",
        "                    x = self.conv_block_1(x)\n",
        "                    # print(f\"Output shape of conv block 1: {x.shape}\")\n",
        "                    x = self.conv_block_2(x)\n",
        "                    # print(f\"Output shape of conv block 2: {x.shape}\")\n",
        "                    x = self.classifier(x)\n",
        "                    # print(f\"Output shape of classifier: {x.shape}\")\n",
        "                    return x"
      ],
      "metadata": {
        "id": "svI8yWlAa4jJ"
      },
      "execution_count": null,
      "outputs": []
    },
    {
      "cell_type": "code",
      "source": [
        "model_V0 = model_v0(input_shape=3,\n",
        "                  hidden_units=10,\n",
        "                  output_shape=101).to(device)\n",
        "model_V0\n",
        "\n"
      ],
      "metadata": {
        "id": "aBC0Oyc-a4lv"
      },
      "execution_count": null,
      "outputs": []
    },
    {
      "cell_type": "code",
      "source": [
        "dummy_x = torch.rand(size = (3, 28, 28)).unsqueeze( dim = 0).to(device)\n",
        "model_V0(dummy_x)\n"
      ],
      "metadata": {
        "id": "r7J7hrPqjfhB"
      },
      "execution_count": null,
      "outputs": []
    },
    {
      "cell_type": "code",
      "source": [
        "from tqdm.auto import tqdm\n",
        "\n",
        "model_cpu = model_v0(input_shape=3,\n",
        "                    hidden_units=10,\n",
        "                    output_shape=101)\n",
        "\n",
        "loss_fn = nn.CrossEntropyLoss()\n",
        "optimizer = torch.optim.SGD(model_cpu.parameters(), lr=0.1)"
      ],
      "metadata": {
        "id": "dhRMXXV6EgJa"
      },
      "execution_count": null,
      "outputs": []
    },
    {
      "cell_type": "code",
      "source": [
        "EPOCHS = 5\n",
        "\n",
        "for epoch in tqdm(range(EPOCHS)):\n",
        "  train_loss = 0\n",
        "  model_cpu.train()\n",
        "  for batch, (X, y) in enumerate(train_dataloader):\n",
        "    X, y = X.to('cpu'), y.to('cpu')\n",
        "    y_pred = model_cpu(X)\n",
        "    loss = loss_fn(y_pred, y)\n",
        "    train_loss += loss\n",
        "    optimizer.zero_grad()\n",
        "    loss.backward()\n",
        "    optimizer.step()\n",
        "\n",
        "  train_loss /= len(train_dataloader)\n",
        "\n",
        "  test_loss_total = 0\n",
        "  model_cpu.eval()\n",
        "  with torch.inference_mode():\n",
        "    for batch, (X_test, y_test) in enumerate(test_dataloader):\n",
        "      X_test, y_test = X_test.to(\"cpu\"), y_test.to(\"cpu\")\n",
        "      test_pred = model_cpu(X_test)\n",
        "      test_loss = loss_fn(test_pred, y_test)\n",
        "      test_loss_total += test_loss\n",
        "    test_loss_total /= len(test_dataloader)\n",
        "\n",
        "  print(f\"Epoch: {epoch} | Loss: {train_loss:.3f} | Test loss: {test_loss_total:.3f}\")"
      ],
      "metadata": {
        "id": "Ai95bZf7-_zk"
      },
      "execution_count": null,
      "outputs": []
    },
    {
      "cell_type": "code",
      "source": [
        "import os\n",
        "os.environ['CUDA_LAUNCH_BLOCKING'] = \"1\"\n",
        "import torch"
      ],
      "metadata": {
        "id": "ZMkyZsivx2TU"
      },
      "execution_count": 11,
      "outputs": []
    },
    {
      "cell_type": "code",
      "source": [
        "# with resnet\n",
        "import torchvision.models as models\n",
        "import torch.nn as nn\n",
        "\n",
        "model = models.resnet101(pretrained=True)"
      ],
      "metadata": {
        "colab": {
          "base_uri": "https://localhost:8080/"
        },
        "id": "EGdq_6P65lQU",
        "outputId": "fd2a83cd-e778-4060-f476-9f913da7e07b"
      },
      "execution_count": 12,
      "outputs": [
        {
          "output_type": "stream",
          "name": "stderr",
          "text": [
            "/usr/local/lib/python3.10/dist-packages/torchvision/models/_utils.py:208: UserWarning: The parameter 'pretrained' is deprecated since 0.13 and may be removed in the future, please use 'weights' instead.\n",
            "  warnings.warn(\n",
            "/usr/local/lib/python3.10/dist-packages/torchvision/models/_utils.py:223: UserWarning: Arguments other than a weight enum or `None` for 'weights' are deprecated since 0.13 and may be removed in the future. The current behavior is equivalent to passing `weights=ResNet101_Weights.IMAGENET1K_V1`. You can also use `weights=ResNet101_Weights.DEFAULT` to get the most up-to-date weights.\n",
            "  warnings.warn(msg)\n",
            "Downloading: \"https://download.pytorch.org/models/resnet101-63fe2227.pth\" to /root/.cache/torch/hub/checkpoints/resnet101-63fe2227.pth\n",
            "100%|██████████| 171M/171M [00:01<00:00, 102MB/s] \n"
          ]
        }
      ]
    },
    {
      "cell_type": "code",
      "source": [
        "in_features = int(model.fc.in_features)\n",
        "model.fc = nn.Linear(in_features, 101, device)"
      ],
      "metadata": {
        "id": "R074JxBy0Rsn"
      },
      "execution_count": 13,
      "outputs": []
    },
    {
      "cell_type": "code",
      "source": [
        "model = model.to(device)"
      ],
      "metadata": {
        "id": "bdNAemeH0RvL"
      },
      "execution_count": 14,
      "outputs": []
    },
    {
      "cell_type": "code",
      "source": [
        "criterion = nn.CrossEntropyLoss()\n",
        "optimizer = optim.SGD(model.parameters(), lr=0.001, momentum=0.9)\n",
        "lr_scheduler = optim.lr_scheduler.StepLR(optimizer,step_size=5, gamma=0.1)"
      ],
      "metadata": {
        "id": "2VLJBmDf0R0j"
      },
      "execution_count": 15,
      "outputs": []
    },
    {
      "cell_type": "code",
      "source": [
        "device"
      ],
      "metadata": {
        "colab": {
          "base_uri": "https://localhost:8080/",
          "height": 36
        },
        "id": "nkhxOwazwwre",
        "outputId": "0da171ff-6897-43b5-b4ca-0e7bf9045415"
      },
      "execution_count": 16,
      "outputs": [
        {
          "output_type": "execute_result",
          "data": {
            "text/plain": [
              "'cuda'"
            ],
            "application/vnd.google.colaboratory.intrinsic+json": {
              "type": "string"
            }
          },
          "metadata": {},
          "execution_count": 16
        }
      ]
    },
    {
      "cell_type": "code",
      "source": [
        "train_dataset = datasets.Food101(\n",
        "    root=\"data\",\n",
        "    split='train',\n",
        "    download=True,\n",
        "    transform=transformations\n",
        ")\n",
        "\n",
        "evaluation_dataset = datasets.Food101(\n",
        "    root=\"data\",\n",
        "    split='test',\n",
        "    download=True,\n",
        "    transform=transformations\n",
        ")"
      ],
      "metadata": {
        "id": "gZ53H5dcw9bz"
      },
      "execution_count": 17,
      "outputs": []
    },
    {
      "cell_type": "code",
      "source": [
        "batch_size = 32\n",
        "image_size = 224\n",
        "\n",
        "train_dataloader = DataLoader(train_dataset, batch_size = 32, shuffle=True, num_workers=2)\n",
        "\n",
        "evaluation_dataloader = DataLoader(evaluation_dataset, batch_size = 32, shuffle=False, num_workers=2)"
      ],
      "metadata": {
        "id": "MfKA1Xrsw11T"
      },
      "execution_count": 18,
      "outputs": []
    },
    {
      "cell_type": "code",
      "source": [
        "%%time\n",
        "\n",
        "num_epochs = 15\n",
        "losses = []\n",
        "\n",
        "for epoch in range(num_epochs):\n",
        "    for i , (inputs, targets) in enumerate(train_dataloader):\n",
        "        inputs = inputs.to(device)\n",
        "        targets = targets.to(device)\n",
        "\n",
        "        #train model\n",
        "        outputs = model(inputs)\n",
        "\n",
        "        #criterion\n",
        "        loss = criterion(outputs, targets)\n",
        "        losses.append(loss.item())\n",
        "\n",
        "        #backward\n",
        "        optimizer.zero_grad()\n",
        "        loss.backward()\n",
        "\n",
        "        #update parameters\n",
        "        optimizer.step()\n",
        "\n",
        "        # report\n",
        "        if (i + 1) % 50 == 0:\n",
        "            print('Epoch [%2d/%2d], Step [%3d/%3d], Loss: %.4f'\n",
        "                  % (epoch + 1, num_epochs, i + 1, len(train_dataset) // batch_size, loss.item()))\n"
      ],
      "metadata": {
        "colab": {
          "base_uri": "https://localhost:8080/"
        },
        "id": "EmHCmAP_w5N6",
        "outputId": "00c52c32-a746-494d-b4c8-521864002d6f"
      },
      "execution_count": 19,
      "outputs": [
        {
          "output_type": "stream",
          "name": "stdout",
          "text": [
            "Epoch [ 1/15], Step [ 50/2367], Loss: 4.5520\n",
            "Epoch [ 1/15], Step [100/2367], Loss: 4.6579\n",
            "Epoch [ 1/15], Step [150/2367], Loss: 4.4761\n",
            "Epoch [ 1/15], Step [200/2367], Loss: 4.4928\n",
            "Epoch [ 1/15], Step [250/2367], Loss: 4.3435\n",
            "Epoch [ 1/15], Step [300/2367], Loss: 4.5102\n",
            "Epoch [ 1/15], Step [350/2367], Loss: 4.1765\n",
            "Epoch [ 1/15], Step [400/2367], Loss: 4.1593\n",
            "Epoch [ 1/15], Step [450/2367], Loss: 4.0115\n",
            "Epoch [ 1/15], Step [500/2367], Loss: 3.8930\n",
            "Epoch [ 1/15], Step [550/2367], Loss: 3.7929\n",
            "Epoch [ 1/15], Step [600/2367], Loss: 3.8983\n",
            "Epoch [ 1/15], Step [650/2367], Loss: 3.8615\n",
            "Epoch [ 1/15], Step [700/2367], Loss: 4.1762\n",
            "Epoch [ 1/15], Step [750/2367], Loss: 3.8436\n",
            "Epoch [ 1/15], Step [800/2367], Loss: 3.6285\n",
            "Epoch [ 1/15], Step [850/2367], Loss: 3.9637\n",
            "Epoch [ 1/15], Step [900/2367], Loss: 3.5182\n",
            "Epoch [ 1/15], Step [950/2367], Loss: 3.6933\n",
            "Epoch [ 1/15], Step [1000/2367], Loss: 3.9629\n",
            "Epoch [ 1/15], Step [1050/2367], Loss: 4.1833\n",
            "Epoch [ 1/15], Step [1100/2367], Loss: 3.9124\n",
            "Epoch [ 1/15], Step [1150/2367], Loss: 3.7508\n",
            "Epoch [ 1/15], Step [1200/2367], Loss: 3.9942\n",
            "Epoch [ 1/15], Step [1250/2367], Loss: 3.5208\n",
            "Epoch [ 1/15], Step [1300/2367], Loss: 3.7807\n",
            "Epoch [ 1/15], Step [1350/2367], Loss: 3.9479\n",
            "Epoch [ 1/15], Step [1400/2367], Loss: 3.8115\n",
            "Epoch [ 1/15], Step [1450/2367], Loss: 3.4640\n",
            "Epoch [ 1/15], Step [1500/2367], Loss: 3.7016\n",
            "Epoch [ 1/15], Step [1550/2367], Loss: 3.9255\n",
            "Epoch [ 1/15], Step [1600/2367], Loss: 3.6204\n",
            "Epoch [ 1/15], Step [1650/2367], Loss: 3.7037\n",
            "Epoch [ 1/15], Step [1700/2367], Loss: 3.3229\n",
            "Epoch [ 1/15], Step [1750/2367], Loss: 3.2753\n",
            "Epoch [ 1/15], Step [1800/2367], Loss: 3.3237\n",
            "Epoch [ 1/15], Step [1850/2367], Loss: 3.4857\n",
            "Epoch [ 1/15], Step [1900/2367], Loss: 3.5013\n",
            "Epoch [ 1/15], Step [1950/2367], Loss: 3.8160\n",
            "Epoch [ 1/15], Step [2000/2367], Loss: 3.5656\n",
            "Epoch [ 1/15], Step [2050/2367], Loss: 3.5834\n",
            "Epoch [ 1/15], Step [2100/2367], Loss: 3.5470\n",
            "Epoch [ 1/15], Step [2150/2367], Loss: 3.5068\n",
            "Epoch [ 1/15], Step [2200/2367], Loss: 3.4289\n",
            "Epoch [ 1/15], Step [2250/2367], Loss: 3.6104\n",
            "Epoch [ 1/15], Step [2300/2367], Loss: 3.5436\n",
            "Epoch [ 1/15], Step [2350/2367], Loss: 3.8312\n",
            "Epoch [ 2/15], Step [ 50/2367], Loss: 3.5090\n",
            "Epoch [ 2/15], Step [100/2367], Loss: 3.3310\n",
            "Epoch [ 2/15], Step [150/2367], Loss: 2.7673\n",
            "Epoch [ 2/15], Step [200/2367], Loss: 3.3258\n",
            "Epoch [ 2/15], Step [250/2367], Loss: 3.5035\n",
            "Epoch [ 2/15], Step [300/2367], Loss: 3.1275\n",
            "Epoch [ 2/15], Step [350/2367], Loss: 3.4634\n",
            "Epoch [ 2/15], Step [400/2367], Loss: 3.0008\n",
            "Epoch [ 2/15], Step [450/2367], Loss: 3.3715\n",
            "Epoch [ 2/15], Step [500/2367], Loss: 3.3498\n",
            "Epoch [ 2/15], Step [550/2367], Loss: 3.3972\n",
            "Epoch [ 2/15], Step [600/2367], Loss: 3.6271\n",
            "Epoch [ 2/15], Step [650/2367], Loss: 3.0876\n",
            "Epoch [ 2/15], Step [700/2367], Loss: 3.3096\n",
            "Epoch [ 2/15], Step [750/2367], Loss: 3.0406\n",
            "Epoch [ 2/15], Step [800/2367], Loss: 3.7547\n",
            "Epoch [ 2/15], Step [850/2367], Loss: 3.1873\n",
            "Epoch [ 2/15], Step [900/2367], Loss: 3.1114\n",
            "Epoch [ 2/15], Step [950/2367], Loss: 3.0890\n",
            "Epoch [ 2/15], Step [1000/2367], Loss: 3.8948\n",
            "Epoch [ 2/15], Step [1050/2367], Loss: 3.2834\n",
            "Epoch [ 2/15], Step [1100/2367], Loss: 2.8289\n",
            "Epoch [ 2/15], Step [1150/2367], Loss: 3.2426\n",
            "Epoch [ 2/15], Step [1200/2367], Loss: 3.2294\n",
            "Epoch [ 2/15], Step [1250/2367], Loss: 3.3176\n",
            "Epoch [ 2/15], Step [1300/2367], Loss: 3.1067\n",
            "Epoch [ 2/15], Step [1350/2367], Loss: 3.2892\n",
            "Epoch [ 2/15], Step [1400/2367], Loss: 3.1948\n",
            "Epoch [ 2/15], Step [1450/2367], Loss: 4.0253\n",
            "Epoch [ 2/15], Step [1500/2367], Loss: 3.2459\n",
            "Epoch [ 2/15], Step [1550/2367], Loss: 3.1198\n",
            "Epoch [ 2/15], Step [1600/2367], Loss: 3.7739\n",
            "Epoch [ 2/15], Step [1650/2367], Loss: 2.9797\n",
            "Epoch [ 2/15], Step [1700/2367], Loss: 2.6471\n",
            "Epoch [ 2/15], Step [1750/2367], Loss: 3.3966\n",
            "Epoch [ 2/15], Step [1800/2367], Loss: 3.3220\n",
            "Epoch [ 2/15], Step [1850/2367], Loss: 2.9748\n",
            "Epoch [ 2/15], Step [1900/2367], Loss: 3.3019\n",
            "Epoch [ 2/15], Step [1950/2367], Loss: 2.8330\n",
            "Epoch [ 2/15], Step [2000/2367], Loss: 3.1727\n",
            "Epoch [ 2/15], Step [2050/2367], Loss: 2.8330\n",
            "Epoch [ 2/15], Step [2100/2367], Loss: 3.4478\n",
            "Epoch [ 2/15], Step [2150/2367], Loss: 3.7427\n",
            "Epoch [ 2/15], Step [2200/2367], Loss: 3.0643\n",
            "Epoch [ 2/15], Step [2250/2367], Loss: 3.0883\n",
            "Epoch [ 2/15], Step [2300/2367], Loss: 3.1302\n",
            "Epoch [ 2/15], Step [2350/2367], Loss: 3.4094\n",
            "Epoch [ 3/15], Step [ 50/2367], Loss: 2.9114\n",
            "Epoch [ 3/15], Step [100/2367], Loss: 3.0019\n",
            "Epoch [ 3/15], Step [150/2367], Loss: 3.1745\n",
            "Epoch [ 3/15], Step [200/2367], Loss: 3.1543\n",
            "Epoch [ 3/15], Step [250/2367], Loss: 3.7809\n",
            "Epoch [ 3/15], Step [300/2367], Loss: 3.5457\n",
            "Epoch [ 3/15], Step [350/2367], Loss: 2.6306\n",
            "Epoch [ 3/15], Step [400/2367], Loss: 3.3841\n",
            "Epoch [ 3/15], Step [450/2367], Loss: 3.3326\n",
            "Epoch [ 3/15], Step [500/2367], Loss: 2.8120\n",
            "Epoch [ 3/15], Step [550/2367], Loss: 3.5848\n",
            "Epoch [ 3/15], Step [600/2367], Loss: 3.0701\n",
            "Epoch [ 3/15], Step [650/2367], Loss: 3.0669\n",
            "Epoch [ 3/15], Step [700/2367], Loss: 3.4273\n",
            "Epoch [ 3/15], Step [750/2367], Loss: 3.0399\n",
            "Epoch [ 3/15], Step [800/2367], Loss: 3.5920\n",
            "Epoch [ 3/15], Step [850/2367], Loss: 3.4455\n",
            "Epoch [ 3/15], Step [900/2367], Loss: 3.2474\n",
            "Epoch [ 3/15], Step [950/2367], Loss: 2.9850\n",
            "Epoch [ 3/15], Step [1000/2367], Loss: 3.2801\n",
            "Epoch [ 3/15], Step [1050/2367], Loss: 3.4396\n",
            "Epoch [ 3/15], Step [1100/2367], Loss: 3.7065\n",
            "Epoch [ 3/15], Step [1150/2367], Loss: 2.9951\n",
            "Epoch [ 3/15], Step [1200/2367], Loss: 3.0835\n",
            "Epoch [ 3/15], Step [1250/2367], Loss: 3.9417\n",
            "Epoch [ 3/15], Step [1300/2367], Loss: 2.6445\n",
            "Epoch [ 3/15], Step [1350/2367], Loss: 3.0735\n",
            "Epoch [ 3/15], Step [1400/2367], Loss: 3.1026\n",
            "Epoch [ 3/15], Step [1450/2367], Loss: 3.1603\n",
            "Epoch [ 3/15], Step [1500/2367], Loss: 2.7951\n",
            "Epoch [ 3/15], Step [1550/2367], Loss: 3.6826\n",
            "Epoch [ 3/15], Step [1600/2367], Loss: 3.1475\n",
            "Epoch [ 3/15], Step [1650/2367], Loss: 3.0248\n",
            "Epoch [ 3/15], Step [1700/2367], Loss: 3.2282\n",
            "Epoch [ 3/15], Step [1750/2367], Loss: 3.7817\n",
            "Epoch [ 3/15], Step [1800/2367], Loss: 3.5458\n",
            "Epoch [ 3/15], Step [1850/2367], Loss: 3.9290\n",
            "Epoch [ 3/15], Step [1900/2367], Loss: 3.5160\n",
            "Epoch [ 3/15], Step [1950/2367], Loss: 3.2982\n",
            "Epoch [ 3/15], Step [2000/2367], Loss: 3.7747\n",
            "Epoch [ 3/15], Step [2050/2367], Loss: 2.9842\n",
            "Epoch [ 3/15], Step [2100/2367], Loss: 3.0058\n",
            "Epoch [ 3/15], Step [2150/2367], Loss: 3.3820\n",
            "Epoch [ 3/15], Step [2200/2367], Loss: 3.4169\n",
            "Epoch [ 3/15], Step [2250/2367], Loss: 2.9137\n",
            "Epoch [ 3/15], Step [2300/2367], Loss: 3.3686\n",
            "Epoch [ 3/15], Step [2350/2367], Loss: 3.7371\n",
            "Epoch [ 4/15], Step [ 50/2367], Loss: 3.1315\n",
            "Epoch [ 4/15], Step [100/2367], Loss: 3.4614\n",
            "Epoch [ 4/15], Step [150/2367], Loss: 3.0415\n",
            "Epoch [ 4/15], Step [200/2367], Loss: 3.1176\n",
            "Epoch [ 4/15], Step [250/2367], Loss: 3.2919\n",
            "Epoch [ 4/15], Step [300/2367], Loss: 2.6034\n",
            "Epoch [ 4/15], Step [350/2367], Loss: 2.7015\n",
            "Epoch [ 4/15], Step [400/2367], Loss: 2.5200\n",
            "Epoch [ 4/15], Step [450/2367], Loss: 2.6700\n",
            "Epoch [ 4/15], Step [500/2367], Loss: 3.0359\n",
            "Epoch [ 4/15], Step [550/2367], Loss: 3.1942\n",
            "Epoch [ 4/15], Step [600/2367], Loss: 2.6812\n",
            "Epoch [ 4/15], Step [650/2367], Loss: 3.1537\n",
            "Epoch [ 4/15], Step [700/2367], Loss: 2.6558\n",
            "Epoch [ 4/15], Step [750/2367], Loss: 2.9735\n",
            "Epoch [ 4/15], Step [800/2367], Loss: 2.9746\n",
            "Epoch [ 4/15], Step [850/2367], Loss: 2.6817\n",
            "Epoch [ 4/15], Step [900/2367], Loss: 3.3764\n",
            "Epoch [ 4/15], Step [950/2367], Loss: 2.4446\n",
            "Epoch [ 4/15], Step [1000/2367], Loss: 3.8492\n",
            "Epoch [ 4/15], Step [1050/2367], Loss: 3.2870\n",
            "Epoch [ 4/15], Step [1100/2367], Loss: 3.0420\n",
            "Epoch [ 4/15], Step [1150/2367], Loss: 3.2401\n",
            "Epoch [ 4/15], Step [1200/2367], Loss: 3.8858\n",
            "Epoch [ 4/15], Step [1250/2367], Loss: 3.7626\n",
            "Epoch [ 4/15], Step [1300/2367], Loss: 3.5792\n",
            "Epoch [ 4/15], Step [1350/2367], Loss: 3.5010\n",
            "Epoch [ 4/15], Step [1400/2367], Loss: 3.2741\n",
            "Epoch [ 4/15], Step [1450/2367], Loss: 3.6284\n",
            "Epoch [ 4/15], Step [1500/2367], Loss: 3.3940\n",
            "Epoch [ 4/15], Step [1550/2367], Loss: 3.4187\n",
            "Epoch [ 4/15], Step [1600/2367], Loss: 3.0637\n",
            "Epoch [ 4/15], Step [1650/2367], Loss: 4.0626\n",
            "Epoch [ 4/15], Step [1700/2367], Loss: 4.0812\n",
            "Epoch [ 4/15], Step [1750/2367], Loss: 3.8939\n",
            "Epoch [ 4/15], Step [1800/2367], Loss: 3.3673\n",
            "Epoch [ 4/15], Step [1850/2367], Loss: 3.9339\n",
            "Epoch [ 4/15], Step [1900/2367], Loss: 3.2642\n",
            "Epoch [ 4/15], Step [1950/2367], Loss: 3.5370\n",
            "Epoch [ 4/15], Step [2000/2367], Loss: 3.3663\n",
            "Epoch [ 4/15], Step [2050/2367], Loss: 3.1893\n",
            "Epoch [ 4/15], Step [2100/2367], Loss: 3.1508\n",
            "Epoch [ 4/15], Step [2150/2367], Loss: 3.0797\n",
            "Epoch [ 4/15], Step [2200/2367], Loss: 3.0916\n",
            "Epoch [ 4/15], Step [2250/2367], Loss: 3.7450\n",
            "Epoch [ 4/15], Step [2300/2367], Loss: 3.3236\n",
            "Epoch [ 4/15], Step [2350/2367], Loss: 3.0797\n",
            "Epoch [ 5/15], Step [ 50/2367], Loss: 3.2562\n",
            "Epoch [ 5/15], Step [100/2367], Loss: 3.2005\n",
            "Epoch [ 5/15], Step [150/2367], Loss: 2.8656\n",
            "Epoch [ 5/15], Step [200/2367], Loss: 2.3374\n",
            "Epoch [ 5/15], Step [250/2367], Loss: 2.5018\n",
            "Epoch [ 5/15], Step [300/2367], Loss: 2.3910\n",
            "Epoch [ 5/15], Step [350/2367], Loss: 2.8190\n",
            "Epoch [ 5/15], Step [400/2367], Loss: 3.4198\n",
            "Epoch [ 5/15], Step [450/2367], Loss: 3.3791\n",
            "Epoch [ 5/15], Step [500/2367], Loss: 3.8231\n",
            "Epoch [ 5/15], Step [550/2367], Loss: 2.5888\n",
            "Epoch [ 5/15], Step [600/2367], Loss: 3.4417\n",
            "Epoch [ 5/15], Step [650/2367], Loss: 3.8806\n",
            "Epoch [ 5/15], Step [700/2367], Loss: 3.4181\n",
            "Epoch [ 5/15], Step [750/2367], Loss: 3.3725\n",
            "Epoch [ 5/15], Step [800/2367], Loss: 2.7022\n",
            "Epoch [ 5/15], Step [850/2367], Loss: 2.7611\n",
            "Epoch [ 5/15], Step [900/2367], Loss: 3.5707\n",
            "Epoch [ 5/15], Step [950/2367], Loss: 2.9947\n",
            "Epoch [ 5/15], Step [1000/2367], Loss: 3.2495\n",
            "Epoch [ 5/15], Step [1050/2367], Loss: 2.8501\n",
            "Epoch [ 5/15], Step [1100/2367], Loss: 3.5672\n",
            "Epoch [ 5/15], Step [1150/2367], Loss: 2.8305\n",
            "Epoch [ 5/15], Step [1200/2367], Loss: 3.2164\n",
            "Epoch [ 5/15], Step [1250/2367], Loss: 3.0668\n",
            "Epoch [ 5/15], Step [1300/2367], Loss: 2.6889\n",
            "Epoch [ 5/15], Step [1350/2367], Loss: 3.0887\n",
            "Epoch [ 5/15], Step [1400/2367], Loss: 2.6927\n",
            "Epoch [ 5/15], Step [1450/2367], Loss: 2.9240\n",
            "Epoch [ 5/15], Step [1500/2367], Loss: 3.3497\n",
            "Epoch [ 5/15], Step [1550/2367], Loss: 2.4672\n",
            "Epoch [ 5/15], Step [1600/2367], Loss: 2.9385\n",
            "Epoch [ 5/15], Step [1650/2367], Loss: 2.8443\n",
            "Epoch [ 5/15], Step [1700/2367], Loss: 2.8416\n",
            "Epoch [ 5/15], Step [1750/2367], Loss: 2.5902\n",
            "Epoch [ 5/15], Step [1800/2367], Loss: 3.1109\n",
            "Epoch [ 5/15], Step [1850/2367], Loss: 3.3331\n",
            "Epoch [ 5/15], Step [1900/2367], Loss: 2.8940\n",
            "Epoch [ 5/15], Step [1950/2367], Loss: 2.8446\n",
            "Epoch [ 5/15], Step [2000/2367], Loss: 3.1715\n",
            "Epoch [ 5/15], Step [2050/2367], Loss: 3.2944\n",
            "Epoch [ 5/15], Step [2100/2367], Loss: 3.0297\n",
            "Epoch [ 5/15], Step [2150/2367], Loss: 2.9219\n",
            "Epoch [ 5/15], Step [2200/2367], Loss: 2.9634\n",
            "Epoch [ 5/15], Step [2250/2367], Loss: 3.1686\n",
            "Epoch [ 5/15], Step [2300/2367], Loss: 2.4873\n",
            "Epoch [ 5/15], Step [2350/2367], Loss: 2.9475\n",
            "Epoch [ 6/15], Step [ 50/2367], Loss: 2.0749\n",
            "Epoch [ 6/15], Step [100/2367], Loss: 2.4690\n",
            "Epoch [ 6/15], Step [150/2367], Loss: 2.9293\n",
            "Epoch [ 6/15], Step [200/2367], Loss: 2.3538\n",
            "Epoch [ 6/15], Step [250/2367], Loss: 2.8076\n",
            "Epoch [ 6/15], Step [300/2367], Loss: 2.9246\n",
            "Epoch [ 6/15], Step [350/2367], Loss: 2.4163\n",
            "Epoch [ 6/15], Step [400/2367], Loss: 3.1892\n",
            "Epoch [ 6/15], Step [450/2367], Loss: 3.1320\n",
            "Epoch [ 6/15], Step [500/2367], Loss: 3.0543\n",
            "Epoch [ 6/15], Step [550/2367], Loss: 2.5553\n",
            "Epoch [ 6/15], Step [600/2367], Loss: 2.8888\n",
            "Epoch [ 6/15], Step [650/2367], Loss: 3.2961\n",
            "Epoch [ 6/15], Step [700/2367], Loss: 2.9301\n",
            "Epoch [ 6/15], Step [750/2367], Loss: 2.7256\n",
            "Epoch [ 6/15], Step [800/2367], Loss: 3.0029\n",
            "Epoch [ 6/15], Step [850/2367], Loss: 2.5985\n",
            "Epoch [ 6/15], Step [900/2367], Loss: 2.8118\n",
            "Epoch [ 6/15], Step [950/2367], Loss: 2.7928\n",
            "Epoch [ 6/15], Step [1000/2367], Loss: 2.6504\n",
            "Epoch [ 6/15], Step [1050/2367], Loss: 2.6519\n",
            "Epoch [ 6/15], Step [1100/2367], Loss: 2.9693\n",
            "Epoch [ 6/15], Step [1150/2367], Loss: 2.9416\n",
            "Epoch [ 6/15], Step [1200/2367], Loss: 3.0190\n",
            "Epoch [ 6/15], Step [1250/2367], Loss: 2.5674\n",
            "Epoch [ 6/15], Step [1300/2367], Loss: 2.6349\n",
            "Epoch [ 6/15], Step [1350/2367], Loss: 2.9485\n",
            "Epoch [ 6/15], Step [1400/2367], Loss: 2.7115\n",
            "Epoch [ 6/15], Step [1450/2367], Loss: 2.9788\n",
            "Epoch [ 6/15], Step [1500/2367], Loss: 2.8928\n",
            "Epoch [ 6/15], Step [1550/2367], Loss: 2.4911\n",
            "Epoch [ 6/15], Step [1600/2367], Loss: 2.8241\n",
            "Epoch [ 6/15], Step [1650/2367], Loss: 2.4056\n",
            "Epoch [ 6/15], Step [1700/2367], Loss: 2.9988\n",
            "Epoch [ 6/15], Step [1750/2367], Loss: 3.3119\n",
            "Epoch [ 6/15], Step [1800/2367], Loss: 2.6208\n",
            "Epoch [ 6/15], Step [1850/2367], Loss: 3.3297\n",
            "Epoch [ 6/15], Step [1900/2367], Loss: 2.5743\n",
            "Epoch [ 6/15], Step [1950/2367], Loss: 2.8134\n",
            "Epoch [ 6/15], Step [2000/2367], Loss: 3.0182\n",
            "Epoch [ 6/15], Step [2050/2367], Loss: 3.2108\n",
            "Epoch [ 6/15], Step [2100/2367], Loss: 3.3040\n",
            "Epoch [ 6/15], Step [2150/2367], Loss: 2.9777\n",
            "Epoch [ 6/15], Step [2200/2367], Loss: 2.5978\n",
            "Epoch [ 6/15], Step [2250/2367], Loss: 3.1533\n",
            "Epoch [ 6/15], Step [2300/2367], Loss: 3.1353\n",
            "Epoch [ 6/15], Step [2350/2367], Loss: 2.6070\n",
            "Epoch [ 7/15], Step [ 50/2367], Loss: 3.0361\n",
            "Epoch [ 7/15], Step [100/2367], Loss: 2.8644\n",
            "Epoch [ 7/15], Step [150/2367], Loss: 2.1764\n",
            "Epoch [ 7/15], Step [200/2367], Loss: 1.7469\n",
            "Epoch [ 7/15], Step [250/2367], Loss: 2.3155\n",
            "Epoch [ 7/15], Step [300/2367], Loss: 2.4042\n",
            "Epoch [ 7/15], Step [350/2367], Loss: 2.3600\n",
            "Epoch [ 7/15], Step [400/2367], Loss: 2.4971\n",
            "Epoch [ 7/15], Step [450/2367], Loss: 2.2770\n",
            "Epoch [ 7/15], Step [500/2367], Loss: 2.6954\n",
            "Epoch [ 7/15], Step [550/2367], Loss: 2.6511\n",
            "Epoch [ 7/15], Step [600/2367], Loss: 2.3618\n",
            "Epoch [ 7/15], Step [650/2367], Loss: 2.5572\n",
            "Epoch [ 7/15], Step [700/2367], Loss: 2.7146\n",
            "Epoch [ 7/15], Step [750/2367], Loss: 3.1239\n",
            "Epoch [ 7/15], Step [800/2367], Loss: 2.9005\n",
            "Epoch [ 7/15], Step [850/2367], Loss: 2.4145\n",
            "Epoch [ 7/15], Step [900/2367], Loss: 2.2616\n",
            "Epoch [ 7/15], Step [950/2367], Loss: 2.6101\n",
            "Epoch [ 7/15], Step [1000/2367], Loss: 3.0392\n",
            "Epoch [ 7/15], Step [1050/2367], Loss: 2.1990\n",
            "Epoch [ 7/15], Step [1100/2367], Loss: 2.7215\n",
            "Epoch [ 7/15], Step [1150/2367], Loss: 2.8412\n",
            "Epoch [ 7/15], Step [1200/2367], Loss: 2.7122\n",
            "Epoch [ 7/15], Step [1250/2367], Loss: 2.5599\n",
            "Epoch [ 7/15], Step [1300/2367], Loss: 2.4925\n",
            "Epoch [ 7/15], Step [1350/2367], Loss: 2.5525\n",
            "Epoch [ 7/15], Step [1400/2367], Loss: 2.4468\n",
            "Epoch [ 7/15], Step [1450/2367], Loss: 2.6712\n",
            "Epoch [ 7/15], Step [1500/2367], Loss: 2.7503\n",
            "Epoch [ 7/15], Step [1550/2367], Loss: 3.1644\n",
            "Epoch [ 7/15], Step [1600/2367], Loss: 2.3198\n",
            "Epoch [ 7/15], Step [1650/2367], Loss: 2.5205\n",
            "Epoch [ 7/15], Step [1700/2367], Loss: 2.6676\n",
            "Epoch [ 7/15], Step [1750/2367], Loss: 3.0620\n",
            "Epoch [ 7/15], Step [1800/2367], Loss: 2.6444\n",
            "Epoch [ 7/15], Step [1850/2367], Loss: 2.3522\n",
            "Epoch [ 7/15], Step [1900/2367], Loss: 3.1397\n",
            "Epoch [ 7/15], Step [1950/2367], Loss: 3.2831\n",
            "Epoch [ 7/15], Step [2000/2367], Loss: 2.9045\n",
            "Epoch [ 7/15], Step [2050/2367], Loss: 2.6877\n",
            "Epoch [ 7/15], Step [2100/2367], Loss: 2.6147\n",
            "Epoch [ 7/15], Step [2150/2367], Loss: 2.9895\n",
            "Epoch [ 7/15], Step [2200/2367], Loss: 3.0340\n",
            "Epoch [ 7/15], Step [2250/2367], Loss: 2.6549\n",
            "Epoch [ 7/15], Step [2300/2367], Loss: 2.6136\n",
            "Epoch [ 7/15], Step [2350/2367], Loss: 2.3275\n",
            "Epoch [ 8/15], Step [ 50/2367], Loss: 2.3097\n",
            "Epoch [ 8/15], Step [100/2367], Loss: 2.7687\n",
            "Epoch [ 8/15], Step [150/2367], Loss: 2.7239\n",
            "Epoch [ 8/15], Step [200/2367], Loss: 2.1352\n",
            "Epoch [ 8/15], Step [250/2367], Loss: 2.6977\n",
            "Epoch [ 8/15], Step [300/2367], Loss: 2.4001\n",
            "Epoch [ 8/15], Step [350/2367], Loss: 1.9349\n",
            "Epoch [ 8/15], Step [400/2367], Loss: 2.4704\n",
            "Epoch [ 8/15], Step [450/2367], Loss: 2.1665\n",
            "Epoch [ 8/15], Step [500/2367], Loss: 2.4496\n",
            "Epoch [ 8/15], Step [550/2367], Loss: 2.4168\n",
            "Epoch [ 8/15], Step [600/2367], Loss: 1.8640\n",
            "Epoch [ 8/15], Step [650/2367], Loss: 2.1658\n",
            "Epoch [ 8/15], Step [700/2367], Loss: 2.2797\n",
            "Epoch [ 8/15], Step [750/2367], Loss: 3.2636\n",
            "Epoch [ 8/15], Step [800/2367], Loss: 2.5951\n",
            "Epoch [ 8/15], Step [850/2367], Loss: 2.1748\n",
            "Epoch [ 8/15], Step [900/2367], Loss: 2.5538\n",
            "Epoch [ 8/15], Step [950/2367], Loss: 2.1467\n",
            "Epoch [ 8/15], Step [1000/2367], Loss: 2.8305\n",
            "Epoch [ 8/15], Step [1050/2367], Loss: 2.5703\n",
            "Epoch [ 8/15], Step [1100/2367], Loss: 2.1041\n",
            "Epoch [ 8/15], Step [1150/2367], Loss: 2.6171\n",
            "Epoch [ 8/15], Step [1200/2367], Loss: 2.5321\n",
            "Epoch [ 8/15], Step [1250/2367], Loss: 2.5875\n",
            "Epoch [ 8/15], Step [1300/2367], Loss: 2.5742\n",
            "Epoch [ 8/15], Step [1350/2367], Loss: 2.5470\n",
            "Epoch [ 8/15], Step [1400/2367], Loss: 2.8937\n",
            "Epoch [ 8/15], Step [1450/2367], Loss: 2.5622\n",
            "Epoch [ 8/15], Step [1500/2367], Loss: 2.6532\n",
            "Epoch [ 8/15], Step [1550/2367], Loss: 2.7891\n",
            "Epoch [ 8/15], Step [1600/2367], Loss: 2.3412\n",
            "Epoch [ 8/15], Step [1650/2367], Loss: 2.2523\n",
            "Epoch [ 8/15], Step [1700/2367], Loss: 2.3958\n",
            "Epoch [ 8/15], Step [1750/2367], Loss: 2.9070\n",
            "Epoch [ 8/15], Step [1800/2367], Loss: 2.4877\n",
            "Epoch [ 8/15], Step [1850/2367], Loss: 2.2242\n",
            "Epoch [ 8/15], Step [1900/2367], Loss: 2.4537\n",
            "Epoch [ 8/15], Step [1950/2367], Loss: 1.9811\n",
            "Epoch [ 8/15], Step [2000/2367], Loss: 2.1792\n",
            "Epoch [ 8/15], Step [2050/2367], Loss: 2.2352\n",
            "Epoch [ 8/15], Step [2100/2367], Loss: 2.1878\n",
            "Epoch [ 8/15], Step [2150/2367], Loss: 2.2476\n",
            "Epoch [ 8/15], Step [2200/2367], Loss: 3.1314\n",
            "Epoch [ 8/15], Step [2250/2367], Loss: 2.6254\n",
            "Epoch [ 8/15], Step [2300/2367], Loss: 2.3869\n",
            "Epoch [ 8/15], Step [2350/2367], Loss: 2.8100\n",
            "Epoch [ 9/15], Step [ 50/2367], Loss: 1.8932\n",
            "Epoch [ 9/15], Step [100/2367], Loss: 1.8112\n",
            "Epoch [ 9/15], Step [150/2367], Loss: 2.3002\n",
            "Epoch [ 9/15], Step [200/2367], Loss: 2.5625\n",
            "Epoch [ 9/15], Step [250/2367], Loss: 2.2879\n",
            "Epoch [ 9/15], Step [300/2367], Loss: 2.1247\n",
            "Epoch [ 9/15], Step [350/2367], Loss: 1.9605\n",
            "Epoch [ 9/15], Step [400/2367], Loss: 2.2073\n",
            "Epoch [ 9/15], Step [450/2367], Loss: 1.9062\n",
            "Epoch [ 9/15], Step [500/2367], Loss: 2.5114\n",
            "Epoch [ 9/15], Step [550/2367], Loss: 2.7985\n",
            "Epoch [ 9/15], Step [600/2367], Loss: 2.4165\n",
            "Epoch [ 9/15], Step [650/2367], Loss: 2.5786\n",
            "Epoch [ 9/15], Step [700/2367], Loss: 2.1348\n",
            "Epoch [ 9/15], Step [750/2367], Loss: 2.3501\n",
            "Epoch [ 9/15], Step [800/2367], Loss: 2.7092\n",
            "Epoch [ 9/15], Step [850/2367], Loss: 2.1671\n",
            "Epoch [ 9/15], Step [900/2367], Loss: 2.5162\n",
            "Epoch [ 9/15], Step [950/2367], Loss: 2.7883\n",
            "Epoch [ 9/15], Step [1000/2367], Loss: 2.0937\n",
            "Epoch [ 9/15], Step [1050/2367], Loss: 2.3041\n",
            "Epoch [ 9/15], Step [1100/2367], Loss: 1.9663\n",
            "Epoch [ 9/15], Step [1150/2367], Loss: 2.3363\n",
            "Epoch [ 9/15], Step [1200/2367], Loss: 2.4171\n",
            "Epoch [ 9/15], Step [1250/2367], Loss: 2.3262\n",
            "Epoch [ 9/15], Step [1300/2367], Loss: 2.7447\n",
            "Epoch [ 9/15], Step [1350/2367], Loss: 2.9167\n",
            "Epoch [ 9/15], Step [1400/2367], Loss: 2.8705\n",
            "Epoch [ 9/15], Step [1450/2367], Loss: 2.3388\n",
            "Epoch [ 9/15], Step [1500/2367], Loss: 2.8640\n",
            "Epoch [ 9/15], Step [1550/2367], Loss: 2.4946\n",
            "Epoch [ 9/15], Step [1600/2367], Loss: 1.7967\n",
            "Epoch [ 9/15], Step [1650/2367], Loss: 2.8798\n",
            "Epoch [ 9/15], Step [1700/2367], Loss: 3.0968\n",
            "Epoch [ 9/15], Step [1750/2367], Loss: 2.5717\n",
            "Epoch [ 9/15], Step [1800/2367], Loss: 2.3187\n",
            "Epoch [ 9/15], Step [1850/2367], Loss: 2.0822\n",
            "Epoch [ 9/15], Step [1900/2367], Loss: 2.1156\n",
            "Epoch [ 9/15], Step [1950/2367], Loss: 3.2441\n",
            "Epoch [ 9/15], Step [2000/2367], Loss: 2.5232\n",
            "Epoch [ 9/15], Step [2050/2367], Loss: 2.7688\n",
            "Epoch [ 9/15], Step [2100/2367], Loss: 2.4712\n",
            "Epoch [ 9/15], Step [2150/2367], Loss: 1.9447\n",
            "Epoch [ 9/15], Step [2200/2367], Loss: 2.2440\n",
            "Epoch [ 9/15], Step [2250/2367], Loss: 2.0249\n",
            "Epoch [ 9/15], Step [2300/2367], Loss: 2.3624\n",
            "Epoch [ 9/15], Step [2350/2367], Loss: 2.3461\n",
            "Epoch [10/15], Step [ 50/2367], Loss: 1.6891\n",
            "Epoch [10/15], Step [100/2367], Loss: 2.7837\n",
            "Epoch [10/15], Step [150/2367], Loss: 2.0131\n",
            "Epoch [10/15], Step [200/2367], Loss: 1.7790\n",
            "Epoch [10/15], Step [250/2367], Loss: 1.9881\n",
            "Epoch [10/15], Step [300/2367], Loss: 2.5498\n",
            "Epoch [10/15], Step [350/2367], Loss: 2.4002\n",
            "Epoch [10/15], Step [400/2367], Loss: 2.4788\n",
            "Epoch [10/15], Step [450/2367], Loss: 2.7550\n",
            "Epoch [10/15], Step [500/2367], Loss: 1.8735\n",
            "Epoch [10/15], Step [550/2367], Loss: 2.3704\n",
            "Epoch [10/15], Step [600/2367], Loss: 2.4718\n",
            "Epoch [10/15], Step [650/2367], Loss: 2.3896\n",
            "Epoch [10/15], Step [700/2367], Loss: 2.2122\n",
            "Epoch [10/15], Step [750/2367], Loss: 2.3267\n",
            "Epoch [10/15], Step [800/2367], Loss: 2.3856\n",
            "Epoch [10/15], Step [850/2367], Loss: 2.9645\n",
            "Epoch [10/15], Step [900/2367], Loss: 2.6748\n",
            "Epoch [10/15], Step [950/2367], Loss: 2.3912\n",
            "Epoch [10/15], Step [1000/2367], Loss: 2.9634\n",
            "Epoch [10/15], Step [1050/2367], Loss: 2.3815\n",
            "Epoch [10/15], Step [1100/2367], Loss: 1.6954\n",
            "Epoch [10/15], Step [1150/2367], Loss: 2.5472\n",
            "Epoch [10/15], Step [1200/2367], Loss: 2.3939\n",
            "Epoch [10/15], Step [1250/2367], Loss: 2.2561\n",
            "Epoch [10/15], Step [1300/2367], Loss: 2.4394\n",
            "Epoch [10/15], Step [1350/2367], Loss: 2.1965\n",
            "Epoch [10/15], Step [1400/2367], Loss: 2.4465\n",
            "Epoch [10/15], Step [1450/2367], Loss: 2.6192\n",
            "Epoch [10/15], Step [1500/2367], Loss: 2.5504\n",
            "Epoch [10/15], Step [1550/2367], Loss: 2.0360\n",
            "Epoch [10/15], Step [1600/2367], Loss: 2.2792\n",
            "Epoch [10/15], Step [1650/2367], Loss: 2.5294\n",
            "Epoch [10/15], Step [1700/2367], Loss: 2.3830\n",
            "Epoch [10/15], Step [1750/2367], Loss: 2.3455\n",
            "Epoch [10/15], Step [1800/2367], Loss: 1.6493\n",
            "Epoch [10/15], Step [1850/2367], Loss: 2.1778\n",
            "Epoch [10/15], Step [1900/2367], Loss: 1.7072\n",
            "Epoch [10/15], Step [1950/2367], Loss: 2.1567\n",
            "Epoch [10/15], Step [2000/2367], Loss: 2.7819\n",
            "Epoch [10/15], Step [2050/2367], Loss: 2.1331\n",
            "Epoch [10/15], Step [2100/2367], Loss: 2.7712\n",
            "Epoch [10/15], Step [2150/2367], Loss: 2.7061\n",
            "Epoch [10/15], Step [2200/2367], Loss: 2.7095\n",
            "Epoch [10/15], Step [2250/2367], Loss: 2.6250\n",
            "Epoch [10/15], Step [2300/2367], Loss: 1.6526\n",
            "Epoch [10/15], Step [2350/2367], Loss: 2.3940\n",
            "Epoch [11/15], Step [ 50/2367], Loss: 2.6603\n",
            "Epoch [11/15], Step [100/2367], Loss: 2.2363\n",
            "Epoch [11/15], Step [150/2367], Loss: 2.1425\n",
            "Epoch [11/15], Step [200/2367], Loss: 2.1123\n",
            "Epoch [11/15], Step [250/2367], Loss: 2.4592\n",
            "Epoch [11/15], Step [300/2367], Loss: 1.7389\n",
            "Epoch [11/15], Step [350/2367], Loss: 1.9223\n",
            "Epoch [11/15], Step [400/2367], Loss: 1.9790\n",
            "Epoch [11/15], Step [450/2367], Loss: 2.0719\n",
            "Epoch [11/15], Step [500/2367], Loss: 1.8036\n",
            "Epoch [11/15], Step [550/2367], Loss: 2.0711\n",
            "Epoch [11/15], Step [600/2367], Loss: 1.3436\n",
            "Epoch [11/15], Step [650/2367], Loss: 2.0245\n",
            "Epoch [11/15], Step [700/2367], Loss: 2.2955\n",
            "Epoch [11/15], Step [750/2367], Loss: 2.1215\n",
            "Epoch [11/15], Step [800/2367], Loss: 1.5999\n",
            "Epoch [11/15], Step [850/2367], Loss: 1.6003\n",
            "Epoch [11/15], Step [900/2367], Loss: 1.6034\n",
            "Epoch [11/15], Step [950/2367], Loss: 2.7633\n",
            "Epoch [11/15], Step [1000/2367], Loss: 1.9637\n",
            "Epoch [11/15], Step [1050/2367], Loss: 2.1272\n",
            "Epoch [11/15], Step [1100/2367], Loss: 2.4592\n",
            "Epoch [11/15], Step [1150/2367], Loss: 1.8953\n",
            "Epoch [11/15], Step [1200/2367], Loss: 1.5157\n",
            "Epoch [11/15], Step [1250/2367], Loss: 2.0175\n",
            "Epoch [11/15], Step [1300/2367], Loss: 1.7551\n",
            "Epoch [11/15], Step [1350/2367], Loss: 2.0744\n",
            "Epoch [11/15], Step [1400/2367], Loss: 2.7301\n",
            "Epoch [11/15], Step [1450/2367], Loss: 2.1262\n",
            "Epoch [11/15], Step [1500/2367], Loss: 1.8658\n",
            "Epoch [11/15], Step [1550/2367], Loss: 1.7610\n",
            "Epoch [11/15], Step [1600/2367], Loss: 2.0595\n",
            "Epoch [11/15], Step [1650/2367], Loss: 1.8275\n",
            "Epoch [11/15], Step [1700/2367], Loss: 1.8824\n",
            "Epoch [11/15], Step [1750/2367], Loss: 2.2113\n",
            "Epoch [11/15], Step [1800/2367], Loss: 1.4635\n",
            "Epoch [11/15], Step [1850/2367], Loss: 2.4260\n",
            "Epoch [11/15], Step [1900/2367], Loss: 2.2971\n",
            "Epoch [11/15], Step [1950/2367], Loss: 2.0848\n",
            "Epoch [11/15], Step [2000/2367], Loss: 1.5432\n",
            "Epoch [11/15], Step [2050/2367], Loss: 2.0985\n",
            "Epoch [11/15], Step [2100/2367], Loss: 1.6858\n",
            "Epoch [11/15], Step [2150/2367], Loss: 1.8347\n",
            "Epoch [11/15], Step [2200/2367], Loss: 1.9064\n",
            "Epoch [11/15], Step [2250/2367], Loss: 2.0388\n",
            "Epoch [11/15], Step [2300/2367], Loss: 2.2143\n",
            "Epoch [11/15], Step [2350/2367], Loss: 1.9205\n",
            "Epoch [12/15], Step [ 50/2367], Loss: 1.3529\n",
            "Epoch [12/15], Step [100/2367], Loss: 0.9852\n",
            "Epoch [12/15], Step [150/2367], Loss: 1.4265\n",
            "Epoch [12/15], Step [200/2367], Loss: 1.2151\n",
            "Epoch [12/15], Step [250/2367], Loss: 2.1462\n",
            "Epoch [12/15], Step [300/2367], Loss: 1.8314\n",
            "Epoch [12/15], Step [350/2367], Loss: 1.8628\n",
            "Epoch [12/15], Step [400/2367], Loss: 2.1152\n",
            "Epoch [12/15], Step [450/2367], Loss: 1.7320\n",
            "Epoch [12/15], Step [500/2367], Loss: 1.3796\n",
            "Epoch [12/15], Step [550/2367], Loss: 1.3903\n",
            "Epoch [12/15], Step [600/2367], Loss: 2.5500\n",
            "Epoch [12/15], Step [650/2367], Loss: 2.5584\n",
            "Epoch [12/15], Step [700/2367], Loss: 1.5166\n",
            "Epoch [12/15], Step [750/2367], Loss: 2.0365\n",
            "Epoch [12/15], Step [800/2367], Loss: 1.8596\n",
            "Epoch [12/15], Step [850/2367], Loss: 2.1493\n",
            "Epoch [12/15], Step [900/2367], Loss: 1.7203\n",
            "Epoch [12/15], Step [950/2367], Loss: 1.6579\n",
            "Epoch [12/15], Step [1000/2367], Loss: 1.8090\n",
            "Epoch [12/15], Step [1050/2367], Loss: 1.9080\n",
            "Epoch [12/15], Step [1100/2367], Loss: 2.2869\n",
            "Epoch [12/15], Step [1150/2367], Loss: 2.6006\n",
            "Epoch [12/15], Step [1200/2367], Loss: 1.5301\n",
            "Epoch [12/15], Step [1250/2367], Loss: 1.9206\n",
            "Epoch [12/15], Step [1300/2367], Loss: 2.0888\n",
            "Epoch [12/15], Step [1350/2367], Loss: 2.2397\n",
            "Epoch [12/15], Step [1400/2367], Loss: 1.6784\n",
            "Epoch [12/15], Step [1450/2367], Loss: 2.2347\n",
            "Epoch [12/15], Step [1500/2367], Loss: 2.1104\n",
            "Epoch [12/15], Step [1550/2367], Loss: 2.2264\n",
            "Epoch [12/15], Step [1600/2367], Loss: 1.9528\n",
            "Epoch [12/15], Step [1650/2367], Loss: 2.1626\n",
            "Epoch [12/15], Step [1700/2367], Loss: 1.5506\n",
            "Epoch [12/15], Step [1750/2367], Loss: 1.7777\n",
            "Epoch [12/15], Step [1800/2367], Loss: 2.2781\n",
            "Epoch [12/15], Step [1850/2367], Loss: 1.6320\n",
            "Epoch [12/15], Step [1900/2367], Loss: 2.2029\n",
            "Epoch [12/15], Step [1950/2367], Loss: 1.4927\n",
            "Epoch [12/15], Step [2000/2367], Loss: 1.8211\n",
            "Epoch [12/15], Step [2050/2367], Loss: 1.7572\n",
            "Epoch [12/15], Step [2100/2367], Loss: 2.0175\n",
            "Epoch [12/15], Step [2150/2367], Loss: 1.9204\n",
            "Epoch [12/15], Step [2200/2367], Loss: 2.6009\n",
            "Epoch [12/15], Step [2250/2367], Loss: 1.9221\n",
            "Epoch [12/15], Step [2300/2367], Loss: 1.6162\n",
            "Epoch [12/15], Step [2350/2367], Loss: 2.0066\n",
            "Epoch [13/15], Step [ 50/2367], Loss: 1.1110\n",
            "Epoch [13/15], Step [100/2367], Loss: 1.3191\n",
            "Epoch [13/15], Step [150/2367], Loss: 2.2021\n",
            "Epoch [13/15], Step [200/2367], Loss: 1.8280\n",
            "Epoch [13/15], Step [250/2367], Loss: 1.5791\n",
            "Epoch [13/15], Step [300/2367], Loss: 1.4362\n",
            "Epoch [13/15], Step [350/2367], Loss: 1.6931\n",
            "Epoch [13/15], Step [400/2367], Loss: 1.7203\n",
            "Epoch [13/15], Step [450/2367], Loss: 1.4439\n",
            "Epoch [13/15], Step [500/2367], Loss: 1.8048\n",
            "Epoch [13/15], Step [550/2367], Loss: 1.6790\n",
            "Epoch [13/15], Step [600/2367], Loss: 1.7476\n",
            "Epoch [13/15], Step [650/2367], Loss: 2.5473\n",
            "Epoch [13/15], Step [700/2367], Loss: 2.0045\n",
            "Epoch [13/15], Step [750/2367], Loss: 2.4973\n",
            "Epoch [13/15], Step [800/2367], Loss: 2.3691\n",
            "Epoch [13/15], Step [850/2367], Loss: 2.8691\n",
            "Epoch [13/15], Step [900/2367], Loss: 2.0245\n",
            "Epoch [13/15], Step [950/2367], Loss: 1.2430\n",
            "Epoch [13/15], Step [1000/2367], Loss: 2.0101\n",
            "Epoch [13/15], Step [1050/2367], Loss: 2.4724\n",
            "Epoch [13/15], Step [1100/2367], Loss: 2.1997\n",
            "Epoch [13/15], Step [1150/2367], Loss: 2.3275\n",
            "Epoch [13/15], Step [1200/2367], Loss: 1.9521\n",
            "Epoch [13/15], Step [1250/2367], Loss: 2.0259\n",
            "Epoch [13/15], Step [1300/2367], Loss: 1.6568\n",
            "Epoch [13/15], Step [1350/2367], Loss: 1.8357\n",
            "Epoch [13/15], Step [1400/2367], Loss: 1.5003\n",
            "Epoch [13/15], Step [1450/2367], Loss: 1.8863\n",
            "Epoch [13/15], Step [1500/2367], Loss: 2.2868\n",
            "Epoch [13/15], Step [1550/2367], Loss: 1.9445\n",
            "Epoch [13/15], Step [1600/2367], Loss: 2.4127\n",
            "Epoch [13/15], Step [1650/2367], Loss: 2.2265\n",
            "Epoch [13/15], Step [1700/2367], Loss: 1.9702\n",
            "Epoch [13/15], Step [1750/2367], Loss: 1.6558\n",
            "Epoch [13/15], Step [1800/2367], Loss: 2.1068\n",
            "Epoch [13/15], Step [1850/2367], Loss: 2.3530\n",
            "Epoch [13/15], Step [1900/2367], Loss: 2.4159\n",
            "Epoch [13/15], Step [1950/2367], Loss: 1.8098\n",
            "Epoch [13/15], Step [2000/2367], Loss: 1.6736\n",
            "Epoch [13/15], Step [2050/2367], Loss: 1.9912\n",
            "Epoch [13/15], Step [2100/2367], Loss: 2.9790\n",
            "Epoch [13/15], Step [2150/2367], Loss: 2.0090\n",
            "Epoch [13/15], Step [2200/2367], Loss: 2.1671\n",
            "Epoch [13/15], Step [2250/2367], Loss: 2.1450\n",
            "Epoch [13/15], Step [2300/2367], Loss: 2.5588\n",
            "Epoch [13/15], Step [2350/2367], Loss: 2.3420\n",
            "Epoch [14/15], Step [ 50/2367], Loss: 1.5899\n",
            "Epoch [14/15], Step [100/2367], Loss: 1.4202\n",
            "Epoch [14/15], Step [150/2367], Loss: 1.5415\n",
            "Epoch [14/15], Step [200/2367], Loss: 1.5758\n",
            "Epoch [14/15], Step [250/2367], Loss: 1.9948\n",
            "Epoch [14/15], Step [300/2367], Loss: 1.7751\n",
            "Epoch [14/15], Step [350/2367], Loss: 1.8748\n",
            "Epoch [14/15], Step [400/2367], Loss: 1.8773\n",
            "Epoch [14/15], Step [450/2367], Loss: 2.0122\n",
            "Epoch [14/15], Step [500/2367], Loss: 1.5861\n",
            "Epoch [14/15], Step [550/2367], Loss: 2.7231\n",
            "Epoch [14/15], Step [600/2367], Loss: 1.4583\n",
            "Epoch [14/15], Step [650/2367], Loss: 1.9588\n",
            "Epoch [14/15], Step [700/2367], Loss: 2.3097\n",
            "Epoch [14/15], Step [750/2367], Loss: 2.0646\n",
            "Epoch [14/15], Step [800/2367], Loss: 2.1400\n",
            "Epoch [14/15], Step [850/2367], Loss: 1.8614\n",
            "Epoch [14/15], Step [900/2367], Loss: 1.9963\n",
            "Epoch [14/15], Step [950/2367], Loss: 1.5888\n",
            "Epoch [14/15], Step [1000/2367], Loss: 1.5881\n",
            "Epoch [14/15], Step [1050/2367], Loss: 2.1681\n",
            "Epoch [14/15], Step [1100/2367], Loss: 2.0978\n",
            "Epoch [14/15], Step [1150/2367], Loss: 2.2485\n",
            "Epoch [14/15], Step [1200/2367], Loss: 1.3297\n",
            "Epoch [14/15], Step [1250/2367], Loss: 2.0299\n",
            "Epoch [14/15], Step [1300/2367], Loss: 1.6868\n",
            "Epoch [14/15], Step [1350/2367], Loss: 1.8021\n",
            "Epoch [14/15], Step [1400/2367], Loss: 1.8274\n",
            "Epoch [14/15], Step [1450/2367], Loss: 1.9604\n",
            "Epoch [14/15], Step [1500/2367], Loss: 1.5280\n",
            "Epoch [14/15], Step [1550/2367], Loss: 1.4715\n",
            "Epoch [14/15], Step [1600/2367], Loss: 1.6134\n",
            "Epoch [14/15], Step [1650/2367], Loss: 2.2267\n",
            "Epoch [14/15], Step [1700/2367], Loss: 1.7040\n",
            "Epoch [14/15], Step [1750/2367], Loss: 1.6940\n",
            "Epoch [14/15], Step [1800/2367], Loss: 2.0173\n",
            "Epoch [14/15], Step [1850/2367], Loss: 1.7087\n",
            "Epoch [14/15], Step [1900/2367], Loss: 1.7959\n",
            "Epoch [14/15], Step [1950/2367], Loss: 2.3043\n",
            "Epoch [14/15], Step [2000/2367], Loss: 2.2013\n",
            "Epoch [14/15], Step [2050/2367], Loss: 2.2510\n",
            "Epoch [14/15], Step [2100/2367], Loss: 2.5031\n",
            "Epoch [14/15], Step [2150/2367], Loss: 2.1431\n",
            "Epoch [14/15], Step [2200/2367], Loss: 2.1820\n",
            "Epoch [14/15], Step [2250/2367], Loss: 2.1406\n",
            "Epoch [14/15], Step [2300/2367], Loss: 1.7556\n",
            "Epoch [14/15], Step [2350/2367], Loss: 1.5073\n",
            "Epoch [15/15], Step [ 50/2367], Loss: 1.1397\n",
            "Epoch [15/15], Step [100/2367], Loss: 1.4895\n",
            "Epoch [15/15], Step [150/2367], Loss: 1.2944\n",
            "Epoch [15/15], Step [200/2367], Loss: 1.2145\n",
            "Epoch [15/15], Step [250/2367], Loss: 1.3867\n",
            "Epoch [15/15], Step [300/2367], Loss: 1.1525\n",
            "Epoch [15/15], Step [350/2367], Loss: 1.2045\n",
            "Epoch [15/15], Step [400/2367], Loss: 1.2457\n",
            "Epoch [15/15], Step [450/2367], Loss: 1.4858\n",
            "Epoch [15/15], Step [500/2367], Loss: 1.9932\n",
            "Epoch [15/15], Step [550/2367], Loss: 1.8502\n",
            "Epoch [15/15], Step [600/2367], Loss: 1.7685\n",
            "Epoch [15/15], Step [650/2367], Loss: 1.3346\n",
            "Epoch [15/15], Step [700/2367], Loss: 1.0989\n",
            "Epoch [15/15], Step [750/2367], Loss: 1.4214\n",
            "Epoch [15/15], Step [800/2367], Loss: 1.3744\n",
            "Epoch [15/15], Step [850/2367], Loss: 1.4823\n",
            "Epoch [15/15], Step [900/2367], Loss: 1.8060\n",
            "Epoch [15/15], Step [950/2367], Loss: 1.4200\n",
            "Epoch [15/15], Step [1000/2367], Loss: 1.8258\n",
            "Epoch [15/15], Step [1050/2367], Loss: 1.7916\n",
            "Epoch [15/15], Step [1100/2367], Loss: 1.5659\n",
            "Epoch [15/15], Step [1150/2367], Loss: 2.0393\n",
            "Epoch [15/15], Step [1200/2367], Loss: 1.7281\n",
            "Epoch [15/15], Step [1250/2367], Loss: 1.7836\n",
            "Epoch [15/15], Step [1300/2367], Loss: 1.4058\n",
            "Epoch [15/15], Step [1350/2367], Loss: 1.6998\n",
            "Epoch [15/15], Step [1400/2367], Loss: 1.9299\n",
            "Epoch [15/15], Step [1450/2367], Loss: 1.5061\n",
            "Epoch [15/15], Step [1500/2367], Loss: 1.7179\n",
            "Epoch [15/15], Step [1550/2367], Loss: 1.5323\n",
            "Epoch [15/15], Step [1600/2367], Loss: 1.7347\n",
            "Epoch [15/15], Step [1650/2367], Loss: 1.3675\n",
            "Epoch [15/15], Step [1700/2367], Loss: 1.8679\n",
            "Epoch [15/15], Step [1750/2367], Loss: 1.2721\n",
            "Epoch [15/15], Step [1800/2367], Loss: 1.8108\n",
            "Epoch [15/15], Step [1850/2367], Loss: 1.6017\n",
            "Epoch [15/15], Step [1900/2367], Loss: 1.4534\n",
            "Epoch [15/15], Step [1950/2367], Loss: 1.6798\n",
            "Epoch [15/15], Step [2000/2367], Loss: 1.4582\n",
            "Epoch [15/15], Step [2050/2367], Loss: 1.1359\n",
            "Epoch [15/15], Step [2100/2367], Loss: 1.8739\n",
            "Epoch [15/15], Step [2150/2367], Loss: 1.8190\n",
            "Epoch [15/15], Step [2200/2367], Loss: 1.9062\n",
            "Epoch [15/15], Step [2250/2367], Loss: 1.7625\n",
            "Epoch [15/15], Step [2300/2367], Loss: 1.0361\n",
            "Epoch [15/15], Step [2350/2367], Loss: 2.5869\n",
            "CPU times: user 1h 14min 21s, sys: 45.6 s, total: 1h 15min 7s\n",
            "Wall time: 1h 30min 57s\n"
          ]
        }
      ]
    },
    {
      "cell_type": "code",
      "source": [
        "plt.figure(figsize=(12, 4))\n",
        "plt.plot(losses)\n",
        "plt.xlabel('Iteration')\n",
        "plt.ylabel('loss')\n",
        "plt.title('Cross Entropy Loss')\n",
        "plt.show()"
      ],
      "metadata": {
        "colab": {
          "base_uri": "https://localhost:8080/",
          "height": 410
        },
        "id": "LIZhbJzcCTWM",
        "outputId": "9b9acbda-3d2c-4272-ad64-bf1930bcab1b"
      },
      "execution_count": 20,
      "outputs": [
        {
          "output_type": "display_data",
          "data": {
            "text/plain": [
              "<Figure size 1200x400 with 1 Axes>"
            ],
            "image/png": "[encoded data removed]"
          },
          "metadata": {}
        }
      ]
    },
    {
      "cell_type": "code",
      "source": [
        "def evaluate_model(model, dataloader, device):\n",
        "    model.eval()  # for batch normalization layers\n",
        "    corrects = 0\n",
        "\n",
        "    with torch.no_grad():\n",
        "        for inputs, targets in dataloader:\n",
        "            inputs, targets = inputs.to(device), targets.to(device)\n",
        "            outputs = model(inputs)\n",
        "            _, preds = torch.max(outputs, 1)\n",
        "            corrects += (preds == targets.data).sum()\n",
        "\n",
        "    print('accuracy: {:.2f}'.format(100. * corrects / len(dataloader.dataset)))"
      ],
      "metadata": {
        "id": "ykVFEMuXCTbb"
      },
      "execution_count": 21,
      "outputs": []
    },
    {
      "cell_type": "code",
      "source": [
        "evaluate_model(model, train_dataloader, device)"
      ],
      "metadata": {
        "colab": {
          "base_uri": "https://localhost:8080/"
        },
        "id": "taqrBORQCTmx",
        "outputId": "ea9b36ca-8b97-482e-cb3c-16ab9d1c39a6"
      },
      "execution_count": 22,
      "outputs": [
        {
          "output_type": "stream",
          "name": "stdout",
          "text": [
            "accuracy: 74.50\n"
          ]
        }
      ]
    },
    {
      "cell_type": "code",
      "source": [
        "evaluate_model(model, evaluation_dataloader, device)"
      ],
      "metadata": {
        "colab": {
          "base_uri": "https://localhost:8080/"
        },
        "id": "yrCrkVEiCYrt",
        "outputId": "f5df134c-5b4b-4ee8-daa7-1050111d5ccc"
      },
      "execution_count": 23,
      "outputs": [
        {
          "output_type": "stream",
          "name": "stdout",
          "text": [
            "accuracy: 27.45\n"
          ]
        }
      ]
    },
    {
      "cell_type": "code",
      "source": [
        "import torch\n",
        "import torchvision\n",
        "import torchvision.transforms as transforms\n",
        "from torch.utils.data import DataLoader\n",
        "from torchvision.models import resnet101\n",
        "import torch.nn as nn\n",
        "import torch.optim as optim\n",
        "from torchvision.datasets import Food101\n",
        "import torchvision.transforms as transforms\n",
        "\n",
        "# Set device\n",
        "device = torch.device(\"cuda\" if torch.cuda.is_available() else \"cpu\")\n",
        "\n",
        "# Define transforms\n",
        "transformations = transforms.Compose([\n",
        "    transforms.Resize((224, 224)),  # ResNet-50 uses 224x224 images\n",
        "    transforms.ToTensor(),\n",
        "    transforms.Normalize(mean=[0.485, 0.456, 0.406], std=[0.229, 0.224, 0.225]),\n",
        "])\n",
        "\n",
        "# Load the dataset\n",
        "train_set = Food101(\n",
        "    root=\"data\",\n",
        "    split='train',\n",
        "    download=True,\n",
        "    transform=transformations\n",
        ")\n",
        "\n",
        "test_set = Food101(\n",
        "    root=\"data\",\n",
        "    split='test',\n",
        "    download=True,\n",
        "    transform=transformations\n",
        ")\n",
        "\n",
        "train_loader = DataLoader(train_set, batch_size=32, shuffle=True)\n",
        "test_loader = DataLoader(test_set, batch_size=32, shuffle=False)\n",
        "\n",
        "# Load the pre-trained ResNet-50 model\n",
        "model = resnet101(pretrained=True)\n",
        "\n",
        "# Modify the last fully connected layer\n",
        "model.fc = nn.Linear(model.fc.in_features, 101)  # Assuming 101 classes\n",
        "\n",
        "# Move the model to the device (GPU or CPU)\n",
        "model = model.to(device)\n",
        "\n",
        "# Define the loss function and optimizer\n",
        "criterion = nn.CrossEntropyLoss()\n",
        "optimizer = optim.Adam(model.parameters(), lr=0.001)\n",
        "\n",
        "# Train the model\n",
        "num_epochs = 5\n",
        "for epoch in range(num_epochs):\n",
        "    model.train()\n",
        "    running_loss = 0.0\n",
        "    for i, data in enumerate(train_loader, 0):\n",
        "        inputs, labels = data\n",
        "        inputs, labels = inputs.to(device), labels.to(device)\n",
        "\n",
        "        optimizer.zero_grad()\n",
        "\n",
        "        outputs = model(inputs)\n",
        "        loss = criterion(outputs, labels)\n",
        "        loss.backward()\n",
        "        optimizer.step()\n",
        "\n",
        "        running_loss += loss.item()\n",
        "        if i % 100 == 99:  # print every 100 mini-batches\n",
        "            print(f'[{epoch + 1}, {i + 1:5d}] loss: {running_loss / 100:.3f}')\n",
        "            running_loss = 0.0\n",
        "\n",
        "print('Finished Training')\n",
        "\n",
        "# Evaluate the model\n",
        "model.eval()\n",
        "correct = 0\n",
        "total = 0\n",
        "with torch.no_grad():\n",
        "    for data in test_loader:\n",
        "        images, labels = data\n",
        "        images, labels = images.to(device), labels.to(device)\n",
        "        outputs = model(images)\n",
        "        _, predicted = torch.max(outputs.data, 1)\n",
        "        total += labels.size(0)\n",
        "        correct += (predicted == labels).sum().item()\n",
        "\n",
        "print(f'Accuracy of the network on the test images: {100 * correct / total:.2f} %')\n"
      ],
      "metadata": {
        "colab": {
          "base_uri": "https://localhost:8080/",
          "height": 515
        },
        "id": "SnxjWK2CZiNx",
        "outputId": "780f9145-9da2-4edd-c08f-dc61929e1032"
      },
      "execution_count": 9,
      "outputs": [
        {
          "output_type": "stream",
          "name": "stderr",
          "text": [
            "/usr/local/lib/python3.10/dist-packages/torchvision/models/_utils.py:208: UserWarning: The parameter 'pretrained' is deprecated since 0.13 and may be removed in the future, please use 'weights' instead.\n",
            "  warnings.warn(\n",
            "/usr/local/lib/python3.10/dist-packages/torchvision/models/_utils.py:223: UserWarning: Arguments other than a weight enum or `None` for 'weights' are deprecated since 0.13 and may be removed in the future. The current behavior is equivalent to passing `weights=ResNet50_Weights.IMAGENET1K_V1`. You can also use `weights=ResNet50_Weights.DEFAULT` to get the most up-to-date weights.\n",
            "  warnings.warn(msg)\n",
            "Downloading: \"https://download.pytorch.org/models/resnet50-0676ba61.pth\" to /root/.cache/torch/hub/checkpoints/resnet50-0676ba61.pth\n",
            "100%|██████████| 97.8M/97.8M [00:02<00:00, 38.8MB/s]\n"
          ]
        },
        {
          "output_type": "error",
          "ename": "KeyboardInterrupt",
          "evalue": "ignored",
          "traceback": [
            "\u001b[0;31m---------------------------------------------------------------------------\u001b[0m",
            "\u001b[0;31mKeyboardInterrupt\u001b[0m                         Traceback (most recent call last)",
            "\u001b[0;32m<ipython-input-9-81789dd536bb>\u001b[0m in \u001b[0;36m<cell line: 55>\u001b[0;34m()\u001b[0m\n\u001b[1;32m     65\u001b[0m         \u001b[0mloss\u001b[0m \u001b[0;34m=\u001b[0m \u001b[0mcriterion\u001b[0m\u001b[0;34m(\u001b[0m\u001b[0moutputs\u001b[0m\u001b[0;34m,\u001b[0m \u001b[0mlabels\u001b[0m\u001b[0;34m)\u001b[0m\u001b[0;34m\u001b[0m\u001b[0;34m\u001b[0m\u001b[0m\n\u001b[1;32m     66\u001b[0m         \u001b[0mloss\u001b[0m\u001b[0;34m.\u001b[0m\u001b[0mbackward\u001b[0m\u001b[0;34m(\u001b[0m\u001b[0;34m)\u001b[0m\u001b[0;34m\u001b[0m\u001b[0;34m\u001b[0m\u001b[0m\n\u001b[0;32m---> 67\u001b[0;31m         \u001b[0moptimizer\u001b[0m\u001b[0;34m.\u001b[0m\u001b[0mstep\u001b[0m\u001b[0;34m(\u001b[0m\u001b[0;34m)\u001b[0m\u001b[0;34m\u001b[0m\u001b[0;34m\u001b[0m\u001b[0m\n\u001b[0m\u001b[1;32m     68\u001b[0m \u001b[0;34m\u001b[0m\u001b[0m\n\u001b[1;32m     69\u001b[0m         \u001b[0mrunning_loss\u001b[0m \u001b[0;34m+=\u001b[0m \u001b[0mloss\u001b[0m\u001b[0;34m.\u001b[0m\u001b[0mitem\u001b[0m\u001b[0;34m(\u001b[0m\u001b[0;34m)\u001b[0m\u001b[0;34m\u001b[0m\u001b[0;34m\u001b[0m\u001b[0m\n",
            "\u001b[0;32m/usr/local/lib/python3.10/dist-packages/torch/optim/optimizer.py\u001b[0m in \u001b[0;36mwrapper\u001b[0;34m(*args, **kwargs)\u001b[0m\n\u001b[1;32m    371\u001b[0m                             )\n\u001b[1;32m    372\u001b[0m \u001b[0;34m\u001b[0m\u001b[0m\n\u001b[0;32m--> 373\u001b[0;31m                 \u001b[0mout\u001b[0m \u001b[0;34m=\u001b[0m \u001b[0mfunc\u001b[0m\u001b[0;34m(\u001b[0m\u001b[0;34m*\u001b[0m\u001b[0margs\u001b[0m\u001b[0;34m,\u001b[0m \u001b[0;34m**\u001b[0m\u001b[0mkwargs\u001b[0m\u001b[0;34m)\u001b[0m\u001b[0;34m\u001b[0m\u001b[0;34m\u001b[0m\u001b[0m\n\u001b[0m\u001b[1;32m    374\u001b[0m                 \u001b[0mself\u001b[0m\u001b[0;34m.\u001b[0m\u001b[0m_optimizer_step_code\u001b[0m\u001b[0;34m(\u001b[0m\u001b[0;34m)\u001b[0m\u001b[0;34m\u001b[0m\u001b[0;34m\u001b[0m\u001b[0m\n\u001b[1;32m    375\u001b[0m \u001b[0;34m\u001b[0m\u001b[0m\n",
            "\u001b[0;32m/usr/local/lib/python3.10/dist-packages/torch/optim/optimizer.py\u001b[0m in \u001b[0;36m_use_grad\u001b[0;34m(self, *args, **kwargs)\u001b[0m\n\u001b[1;32m     74\u001b[0m             \u001b[0mtorch\u001b[0m\u001b[0;34m.\u001b[0m\u001b[0mset_grad_enabled\u001b[0m\u001b[0;34m(\u001b[0m\u001b[0mself\u001b[0m\u001b[0;34m.\u001b[0m\u001b[0mdefaults\u001b[0m\u001b[0;34m[\u001b[0m\u001b[0;34m'differentiable'\u001b[0m\u001b[0;34m]\u001b[0m\u001b[0;34m)\u001b[0m\u001b[0;34m\u001b[0m\u001b[0;34m\u001b[0m\u001b[0m\n\u001b[1;32m     75\u001b[0m             \u001b[0mtorch\u001b[0m\u001b[0;34m.\u001b[0m\u001b[0m_dynamo\u001b[0m\u001b[0;34m.\u001b[0m\u001b[0mgraph_break\u001b[0m\u001b[0;34m(\u001b[0m\u001b[0;34m)\u001b[0m\u001b[0;34m\u001b[0m\u001b[0;34m\u001b[0m\u001b[0m\n\u001b[0;32m---> 76\u001b[0;31m             \u001b[0mret\u001b[0m \u001b[0;34m=\u001b[0m \u001b[0mfunc\u001b[0m\u001b[0;34m(\u001b[0m\u001b[0mself\u001b[0m\u001b[0;34m,\u001b[0m \u001b[0;34m*\u001b[0m\u001b[0margs\u001b[0m\u001b[0;34m,\u001b[0m \u001b[0;34m**\u001b[0m\u001b[0mkwargs\u001b[0m\u001b[0;34m)\u001b[0m\u001b[0;34m\u001b[0m\u001b[0;34m\u001b[0m\u001b[0m\n\u001b[0m\u001b[1;32m     77\u001b[0m         \u001b[0;32mfinally\u001b[0m\u001b[0;34m:\u001b[0m\u001b[0;34m\u001b[0m\u001b[0;34m\u001b[0m\u001b[0m\n\u001b[1;32m     78\u001b[0m             \u001b[0mtorch\u001b[0m\u001b[0;34m.\u001b[0m\u001b[0m_dynamo\u001b[0m\u001b[0;34m.\u001b[0m\u001b[0mgraph_break\u001b[0m\u001b[0;34m(\u001b[0m\u001b[0;34m)\u001b[0m\u001b[0;34m\u001b[0m\u001b[0;34m\u001b[0m\u001b[0m\n",
            "\u001b[0;32m/usr/local/lib/python3.10/dist-packages/torch/optim/adam.py\u001b[0m in \u001b[0;36mstep\u001b[0;34m(self, closure)\u001b[0m\n\u001b[1;32m    161\u001b[0m                 state_steps)\n\u001b[1;32m    162\u001b[0m \u001b[0;34m\u001b[0m\u001b[0m\n\u001b[0;32m--> 163\u001b[0;31m             adam(\n\u001b[0m\u001b[1;32m    164\u001b[0m                 \u001b[0mparams_with_grad\u001b[0m\u001b[0;34m,\u001b[0m\u001b[0;34m\u001b[0m\u001b[0;34m\u001b[0m\u001b[0m\n\u001b[1;32m    165\u001b[0m                 \u001b[0mgrads\u001b[0m\u001b[0;34m,\u001b[0m\u001b[0;34m\u001b[0m\u001b[0;34m\u001b[0m\u001b[0m\n",
            "\u001b[0;32m/usr/local/lib/python3.10/dist-packages/torch/optim/adam.py\u001b[0m in \u001b[0;36madam\u001b[0;34m(params, grads, exp_avgs, exp_avg_sqs, max_exp_avg_sqs, state_steps, foreach, capturable, differentiable, fused, grad_scale, found_inf, amsgrad, beta1, beta2, lr, weight_decay, eps, maximize)\u001b[0m\n\u001b[1;32m    309\u001b[0m         \u001b[0mfunc\u001b[0m \u001b[0;34m=\u001b[0m \u001b[0m_single_tensor_adam\u001b[0m\u001b[0;34m\u001b[0m\u001b[0;34m\u001b[0m\u001b[0m\n\u001b[1;32m    310\u001b[0m \u001b[0;34m\u001b[0m\u001b[0m\n\u001b[0;32m--> 311\u001b[0;31m     func(params,\n\u001b[0m\u001b[1;32m    312\u001b[0m          \u001b[0mgrads\u001b[0m\u001b[0;34m,\u001b[0m\u001b[0;34m\u001b[0m\u001b[0;34m\u001b[0m\u001b[0m\n\u001b[1;32m    313\u001b[0m          \u001b[0mexp_avgs\u001b[0m\u001b[0;34m,\u001b[0m\u001b[0;34m\u001b[0m\u001b[0;34m\u001b[0m\u001b[0m\n",
            "\u001b[0;32m/usr/local/lib/python3.10/dist-packages/torch/optim/adam.py\u001b[0m in \u001b[0;36m_multi_tensor_adam\u001b[0;34m(params, grads, exp_avgs, exp_avg_sqs, max_exp_avg_sqs, state_steps, grad_scale, found_inf, amsgrad, beta1, beta2, lr, weight_decay, eps, maximize, capturable, differentiable)\u001b[0m\n\u001b[1;32m    488\u001b[0m         \u001b[0;31m# Handle complex parameters\u001b[0m\u001b[0;34m\u001b[0m\u001b[0;34m\u001b[0m\u001b[0m\n\u001b[1;32m    489\u001b[0m         \u001b[0mdevice_grads\u001b[0m \u001b[0;34m=\u001b[0m \u001b[0;34m[\u001b[0m\u001b[0mtorch\u001b[0m\u001b[0;34m.\u001b[0m\u001b[0mview_as_real\u001b[0m\u001b[0;34m(\u001b[0m\u001b[0mx\u001b[0m\u001b[0;34m)\u001b[0m \u001b[0;32mif\u001b[0m \u001b[0mtorch\u001b[0m\u001b[0;34m.\u001b[0m\u001b[0mis_complex\u001b[0m\u001b[0;34m(\u001b[0m\u001b[0mx\u001b[0m\u001b[0;34m)\u001b[0m \u001b[0;32melse\u001b[0m \u001b[0mx\u001b[0m \u001b[0;32mfor\u001b[0m \u001b[0mx\u001b[0m \u001b[0;32min\u001b[0m \u001b[0mdevice_grads\u001b[0m\u001b[0;34m]\u001b[0m\u001b[0;34m\u001b[0m\u001b[0;34m\u001b[0m\u001b[0m\n\u001b[0;32m--> 490\u001b[0;31m         \u001b[0mdevice_exp_avgs\u001b[0m \u001b[0;34m=\u001b[0m \u001b[0;34m[\u001b[0m\u001b[0mtorch\u001b[0m\u001b[0;34m.\u001b[0m\u001b[0mview_as_real\u001b[0m\u001b[0;34m(\u001b[0m\u001b[0mx\u001b[0m\u001b[0;34m)\u001b[0m \u001b[0;32mif\u001b[0m \u001b[0mtorch\u001b[0m\u001b[0;34m.\u001b[0m\u001b[0mis_complex\u001b[0m\u001b[0;34m(\u001b[0m\u001b[0mx\u001b[0m\u001b[0;34m)\u001b[0m \u001b[0;32melse\u001b[0m \u001b[0mx\u001b[0m \u001b[0;32mfor\u001b[0m \u001b[0mx\u001b[0m \u001b[0;32min\u001b[0m \u001b[0mdevice_exp_avgs\u001b[0m\u001b[0;34m]\u001b[0m\u001b[0;34m\u001b[0m\u001b[0;34m\u001b[0m\u001b[0m\n\u001b[0m\u001b[1;32m    491\u001b[0m         \u001b[0mdevice_exp_avg_sqs\u001b[0m \u001b[0;34m=\u001b[0m \u001b[0;34m[\u001b[0m\u001b[0mtorch\u001b[0m\u001b[0;34m.\u001b[0m\u001b[0mview_as_real\u001b[0m\u001b[0;34m(\u001b[0m\u001b[0mx\u001b[0m\u001b[0;34m)\u001b[0m \u001b[0;32mif\u001b[0m \u001b[0mtorch\u001b[0m\u001b[0;34m.\u001b[0m\u001b[0mis_complex\u001b[0m\u001b[0;34m(\u001b[0m\u001b[0mx\u001b[0m\u001b[0;34m)\u001b[0m \u001b[0;32melse\u001b[0m \u001b[0mx\u001b[0m \u001b[0;32mfor\u001b[0m \u001b[0mx\u001b[0m \u001b[0;32min\u001b[0m \u001b[0mdevice_exp_avg_sqs\u001b[0m\u001b[0;34m]\u001b[0m\u001b[0;34m\u001b[0m\u001b[0;34m\u001b[0m\u001b[0m\n\u001b[1;32m    492\u001b[0m         \u001b[0mdevice_max_exp_avg_sqs\u001b[0m \u001b[0;34m=\u001b[0m \u001b[0;34m[\u001b[0m\u001b[0mtorch\u001b[0m\u001b[0;34m.\u001b[0m\u001b[0mview_as_real\u001b[0m\u001b[0;34m(\u001b[0m\u001b[0mx\u001b[0m\u001b[0;34m)\u001b[0m \u001b[0;32mif\u001b[0m \u001b[0mtorch\u001b[0m\u001b[0;34m.\u001b[0m\u001b[0mis_complex\u001b[0m\u001b[0;34m(\u001b[0m\u001b[0mx\u001b[0m\u001b[0;34m)\u001b[0m \u001b[0;32melse\u001b[0m \u001b[0mx\u001b[0m \u001b[0;32mfor\u001b[0m \u001b[0mx\u001b[0m \u001b[0;32min\u001b[0m \u001b[0mdevice_max_exp_avg_sqs\u001b[0m\u001b[0;34m]\u001b[0m\u001b[0;34m\u001b[0m\u001b[0;34m\u001b[0m\u001b[0m\n",
            "\u001b[0;32m/usr/local/lib/python3.10/dist-packages/torch/optim/adam.py\u001b[0m in \u001b[0;36m<listcomp>\u001b[0;34m(.0)\u001b[0m\n\u001b[1;32m    488\u001b[0m         \u001b[0;31m# Handle complex parameters\u001b[0m\u001b[0;34m\u001b[0m\u001b[0;34m\u001b[0m\u001b[0m\n\u001b[1;32m    489\u001b[0m         \u001b[0mdevice_grads\u001b[0m \u001b[0;34m=\u001b[0m \u001b[0;34m[\u001b[0m\u001b[0mtorch\u001b[0m\u001b[0;34m.\u001b[0m\u001b[0mview_as_real\u001b[0m\u001b[0;34m(\u001b[0m\u001b[0mx\u001b[0m\u001b[0;34m)\u001b[0m \u001b[0;32mif\u001b[0m \u001b[0mtorch\u001b[0m\u001b[0;34m.\u001b[0m\u001b[0mis_complex\u001b[0m\u001b[0;34m(\u001b[0m\u001b[0mx\u001b[0m\u001b[0;34m)\u001b[0m \u001b[0;32melse\u001b[0m \u001b[0mx\u001b[0m \u001b[0;32mfor\u001b[0m \u001b[0mx\u001b[0m \u001b[0;32min\u001b[0m \u001b[0mdevice_grads\u001b[0m\u001b[0;34m]\u001b[0m\u001b[0;34m\u001b[0m\u001b[0;34m\u001b[0m\u001b[0m\n\u001b[0;32m--> 490\u001b[0;31m         \u001b[0mdevice_exp_avgs\u001b[0m \u001b[0;34m=\u001b[0m \u001b[0;34m[\u001b[0m\u001b[0mtorch\u001b[0m\u001b[0;34m.\u001b[0m\u001b[0mview_as_real\u001b[0m\u001b[0;34m(\u001b[0m\u001b[0mx\u001b[0m\u001b[0;34m)\u001b[0m \u001b[0;32mif\u001b[0m \u001b[0mtorch\u001b[0m\u001b[0;34m.\u001b[0m\u001b[0mis_complex\u001b[0m\u001b[0;34m(\u001b[0m\u001b[0mx\u001b[0m\u001b[0;34m)\u001b[0m \u001b[0;32melse\u001b[0m \u001b[0mx\u001b[0m \u001b[0;32mfor\u001b[0m \u001b[0mx\u001b[0m \u001b[0;32min\u001b[0m \u001b[0mdevice_exp_avgs\u001b[0m\u001b[0;34m]\u001b[0m\u001b[0;34m\u001b[0m\u001b[0;34m\u001b[0m\u001b[0m\n\u001b[0m\u001b[1;32m    491\u001b[0m         \u001b[0mdevice_exp_avg_sqs\u001b[0m \u001b[0;34m=\u001b[0m \u001b[0;34m[\u001b[0m\u001b[0mtorch\u001b[0m\u001b[0;34m.\u001b[0m\u001b[0mview_as_real\u001b[0m\u001b[0;34m(\u001b[0m\u001b[0mx\u001b[0m\u001b[0;34m)\u001b[0m \u001b[0;32mif\u001b[0m \u001b[0mtorch\u001b[0m\u001b[0;34m.\u001b[0m\u001b[0mis_complex\u001b[0m\u001b[0;34m(\u001b[0m\u001b[0mx\u001b[0m\u001b[0;34m)\u001b[0m \u001b[0;32melse\u001b[0m \u001b[0mx\u001b[0m \u001b[0;32mfor\u001b[0m \u001b[0mx\u001b[0m \u001b[0;32min\u001b[0m \u001b[0mdevice_exp_avg_sqs\u001b[0m\u001b[0;34m]\u001b[0m\u001b[0;34m\u001b[0m\u001b[0;34m\u001b[0m\u001b[0m\n\u001b[1;32m    492\u001b[0m         \u001b[0mdevice_max_exp_avg_sqs\u001b[0m \u001b[0;34m=\u001b[0m \u001b[0;34m[\u001b[0m\u001b[0mtorch\u001b[0m\u001b[0;34m.\u001b[0m\u001b[0mview_as_real\u001b[0m\u001b[0;34m(\u001b[0m\u001b[0mx\u001b[0m\u001b[0;34m)\u001b[0m \u001b[0;32mif\u001b[0m \u001b[0mtorch\u001b[0m\u001b[0;34m.\u001b[0m\u001b[0mis_complex\u001b[0m\u001b[0;34m(\u001b[0m\u001b[0mx\u001b[0m\u001b[0;34m)\u001b[0m \u001b[0;32melse\u001b[0m \u001b[0mx\u001b[0m \u001b[0;32mfor\u001b[0m \u001b[0mx\u001b[0m \u001b[0;32min\u001b[0m \u001b[0mdevice_max_exp_avg_sqs\u001b[0m\u001b[0;34m]\u001b[0m\u001b[0;34m\u001b[0m\u001b[0;34m\u001b[0m\u001b[0m\n",
            "\u001b[0;31mKeyboardInterrupt\u001b[0m: "
          ]
        }
      ]
    },
    {
      "cell_type": "code",
      "source": [
        "import torch\n",
        "import torchvision\n",
        "import torchvision.transforms as transforms\n",
        "from torch.utils.data import DataLoader\n",
        "from torchvision.models import resnet50\n",
        "import torch.nn as nn\n",
        "import torch.optim as optim\n",
        "from torchvision.datasets import Food101\n",
        "import torchvision.transforms as transforms\n",
        "\n",
        "# Set device\n",
        "device = torch.device(\"cuda\" if torch.cuda.is_available() else \"cpu\")\n",
        "\n",
        "# Define transforms\n",
        "transformations = transforms.Compose([\n",
        "    transforms.Resize((224, 224)),  # ResNet-50 uses 224x224 images\n",
        "    transforms.ToTensor(),\n",
        "    transforms.Normalize(mean=[0.485, 0.456, 0.406], std=[0.229, 0.224, 0.225]),\n",
        "])\n",
        "\n",
        "# Load the dataset\n",
        "train_set = Food101(\n",
        "    root=\"data\",\n",
        "    split='train',\n",
        "    download=True,\n",
        "    transform=transformations\n",
        ")\n",
        "\n",
        "test_set = Food101(\n",
        "    root=\"data\",\n",
        "    split='test',\n",
        "    download=True,\n",
        "    transform=transformations\n",
        ")\n",
        "\n",
        "train_loader = DataLoader(train_set, batch_size=32, shuffle=True)\n",
        "test_loader = DataLoader(test_set, batch_size=32, shuffle=False)\n",
        "\n",
        "# Load the pre-trained ResNet-50 model\n",
        "model = resnet50(pretrained=True)\n",
        "\n",
        "# Modify the last fully connected layer\n",
        "model.fc = nn.Linear(model.fc.in_features, 101)  # Assuming 101 classes\n",
        "\n",
        "# Move the model to the device (GPU or CPU)\n",
        "model = model.to(device)\n",
        "\n",
        "# Define the loss function and optimizer\n",
        "criterion = nn.CrossEntropyLoss()\n",
        "optimizer = optim.Adam(model.parameters(), lr=0.001)\n",
        "\n",
        "# Train the model\n",
        "num_epochs = 5\n",
        "for epoch in range(num_epochs):\n",
        "    model.train()\n",
        "    running_loss = 0.0\n",
        "    for i, data in enumerate(train_loader, 0):\n",
        "        inputs, labels = data\n",
        "        inputs, labels = inputs.to(device), labels.to(device)\n",
        "\n",
        "        optimizer.zero_grad()\n",
        "\n",
        "        outputs = model(inputs)\n",
        "        loss = criterion(outputs, labels)\n",
        "        loss.backward()\n",
        "        optimizer.step()\n",
        "\n",
        "        running_loss += loss.item()\n",
        "        if i % 100 == 99:  # print every 100 mini-batches\n",
        "            print(f'[{epoch + 1}, {i + 1:5d}] loss: {running_loss / 100:.3f}')\n",
        "            running_loss = 0.0\n",
        "\n",
        "print('Finished Training')\n",
        "\n",
        "# Evaluate the model\n",
        "model.eval()\n",
        "correct = 0\n",
        "total = 0\n",
        "with torch.no_grad():\n",
        "    for data in test_loader:\n",
        "        images, labels = data\n",
        "        images, labels = images.to(device), labels.to(device)\n",
        "        outputs = model(images)\n",
        "        _, predicted = torch.max(outputs.data, 1)\n",
        "        total += labels.size(0)\n",
        "        correct += (predicted == labels).sum().item()\n",
        "\n",
        "print(f'Accuracy of the network on the test images: {100 * correct / total:.2f} %')\n"
      ],
      "metadata": {
        "id": "YREOE8zUMQJi",
        "outputId": "1302e40e-474a-4774-a65a-bc733211f30a",
        "colab": {
          "base_uri": "https://localhost:8080/"
        }
      },
      "execution_count": null,
      "outputs": [
        {
          "output_type": "stream",
          "name": "stdout",
          "text": [
            "[1,   100] loss: 4.749\n",
            "[1,   200] loss: 4.605\n"
          ]
        }
      ]
    },
    {
      "cell_type": "code",
      "source": [],
      "metadata": {
        "id": "RNvZ4nkOxDIa"
      },
      "execution_count": null,
      "outputs": []
    },
    {
      "cell_type": "code",
      "source": [],
      "metadata": {
        "id": "uPrlXeEfxDLO"
      },
      "execution_count": null,
      "outputs": []
    },
    {
      "cell_type": "code",
      "source": [],
      "metadata": {
        "id": "lT5NxrHkxDPw"
      },
      "execution_count": null,
      "outputs": []
    },
    {
      "cell_type": "code",
      "source": [
        "projects/simple_nn.ipynb"
      ],
      "metadata": {
        "id": "PJrhDWp3LSHe"
      },
      "execution_count": null,
      "outputs": []
    }
  ]
}