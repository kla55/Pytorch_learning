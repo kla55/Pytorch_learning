{
  "nbformat": 4,
  "nbformat_minor": 0,
  "metadata": {
    "colab": {
      "provenance": [],
      "authorship_tag": "ABX9TyNIGHqGmPGXVD9LsTcSgrnH",
      "include_colab_link": true
    },
    "kernelspec": {
      "name": "python3",
      "display_name": "Python 3"
    },
    "language_info": {
      "name": "python"
    }
  },
  "cells": [
    {
      "cell_type": "markdown",
      "metadata": {
        "id": "view-in-github",
        "colab_type": "text"
      },
      "source": [
        "<a href=\"https://colab.research.google.com/github/kla55/Pytorch_learning/blob/main/Sentiment_analysis_with_BERT/Sentiment_analysis_with_BERT.ipynb\" target=\"_parent\"><img src=\"https://colab.research.google.com/assets/colab-badge.svg\" alt=\"Open In Colab\"/></a>"
      ]
    },
    {
      "cell_type": "code",
      "execution_count": null,
      "metadata": {
        "id": "FWofwSvuqi15"
      },
      "outputs": [],
      "source": [
        "import torch\n",
        "import pandas as pd\n",
        "import tqdm.notebook import tqdm\n",
        "pd.options.mode.chained_assignment = None\n",
        "df ="
      ]
    },
    {
      "cell_type": "code",
      "source": [
        "Sentiment Analysis with BERT"
      ],
      "metadata": {
        "id": "jGQUSO1sqypy"
      },
      "execution_count": null,
      "outputs": []
    }
  ]
}