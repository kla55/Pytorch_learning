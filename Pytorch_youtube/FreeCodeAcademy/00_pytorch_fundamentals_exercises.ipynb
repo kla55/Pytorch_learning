{
  "nbformat": 4,
  "nbformat_minor": 0,
  "metadata": {
    "colab": {
      "provenance": [],
      "gpuType": "T4",
      "authorship_tag": "ABX9TyPVb7zGYkH+mwLe7oovwyuy",
      "include_colab_link": true
    },
    "kernelspec": {
      "name": "python3",
      "display_name": "Python 3"
    },
    "language_info": {
      "name": "python"
    },
    "accelerator": "GPU"
  },
  "cells": [
    {
      "cell_type": "markdown",
      "metadata": {
        "id": "view-in-github",
        "colab_type": "text"
      },
      "source": [
        "<a href=\"https://colab.research.google.com/github/kla55/Pytorch_learning/blob/main/Pytorch_youtube/FreeCodeAcademy/00_pytorch_fundamentals_exercises.ipynb\" target=\"_parent\"><img src=\"https://colab.research.google.com/assets/colab-badge.svg\" alt=\"Open In Colab\"/></a>"
      ]
    },
    {
      "cell_type": "markdown",
      "source": [
        "# 00. PyTorch Fundamentals Exercises"
      ],
      "metadata": {
        "id": "DjRpWppSUUu2"
      }
    },
    {
      "cell_type": "markdown",
      "source": [
        "### 1. Documentation reading\n",
        "A big part of deep learning (and learning to code in general) is getting familiar with the documentation of a certain framework you're using. We'll be using the PyTorch documentation a lot throughout the rest of this course. So I'd recommend spending 10-minutes reading the following (it's okay if you don't get some things for now, the focus is not yet full understanding, it's awareness):\n",
        "\n",
        "* The documentation on torch.Tensor.\n",
        "* The documentation on torch.cuda."
      ],
      "metadata": {
        "id": "yy9qmkUTUcTl"
      }
    },
    {
      "cell_type": "markdown",
      "source": [
        "### 2. Create a random tensor with shape (7, 7)."
      ],
      "metadata": {
        "id": "sNZVgfY7Ul_n"
      }
    },
    {
      "cell_type": "code",
      "source": [
        "import torch"
      ],
      "metadata": {
        "id": "FRIOBzVPUniK"
      },
      "execution_count": 15,
      "outputs": []
    },
    {
      "cell_type": "code",
      "source": [
        "t1 = torch.rand(7,7)\n",
        "t1"
      ],
      "metadata": {
        "colab": {
          "base_uri": "https://localhost:8080/"
        },
        "id": "euC107gGUzAZ",
        "outputId": "66bd7ab9-a9f9-4586-cd71-ea49ab9e99da"
      },
      "execution_count": 16,
      "outputs": [
        {
          "output_type": "execute_result",
          "data": {
            "text/plain": [
              "tensor([[0.1952, 0.0050, 0.3068, 0.1165, 0.9103, 0.6440, 0.7071],\n",
              "        [0.6581, 0.4913, 0.8913, 0.1447, 0.5315, 0.1587, 0.6542],\n",
              "        [0.3278, 0.6532, 0.3958, 0.9147, 0.2036, 0.2018, 0.2018],\n",
              "        [0.9497, 0.6666, 0.9811, 0.0874, 0.0041, 0.1088, 0.1637],\n",
              "        [0.7025, 0.6790, 0.9155, 0.2418, 0.1591, 0.7653, 0.2979],\n",
              "        [0.8035, 0.3813, 0.7860, 0.1115, 0.2477, 0.6524, 0.6057],\n",
              "        [0.3725, 0.7980, 0.8399, 0.1374, 0.2331, 0.9578, 0.3313]])"
            ]
          },
          "metadata": {},
          "execution_count": 16
        }
      ]
    },
    {
      "cell_type": "markdown",
      "source": [
        "### 3. Perform a matrix multiplication on the tensor from 2 with another random tensor with shape (1, 7) (hint: you may have to transpose the second tensor)."
      ],
      "metadata": {
        "id": "ydEJFXOtU1-w"
      }
    },
    {
      "cell_type": "code",
      "source": [
        "t2 = torch.rand(1,7)"
      ],
      "metadata": {
        "id": "1LjSQJcqU5PP"
      },
      "execution_count": 17,
      "outputs": []
    },
    {
      "cell_type": "code",
      "source": [
        "torch.matmul(t1, t2.T)"
      ],
      "metadata": {
        "colab": {
          "base_uri": "https://localhost:8080/"
        },
        "id": "NUJUxjUVVEIl",
        "outputId": "e9b4c52d-1feb-4ba6-cf07-d61fdfa26f4c"
      },
      "execution_count": 18,
      "outputs": [
        {
          "output_type": "execute_result",
          "data": {
            "text/plain": [
              "tensor([[1.0466],\n",
              "        [1.0884],\n",
              "        [0.9919],\n",
              "        [0.6820],\n",
              "        [0.9108],\n",
              "        [1.0100],\n",
              "        [0.8004]])"
            ]
          },
          "metadata": {},
          "execution_count": 18
        }
      ]
    },
    {
      "cell_type": "markdown",
      "source": [
        "# 4. Set the random seed to 0 and do 2 & 3 over again."
      ],
      "metadata": {
        "id": "wsS-d0dkVIch"
      }
    },
    {
      "cell_type": "code",
      "source": [
        "import random"
      ],
      "metadata": {
        "id": "XRmYRzSOxyoY"
      },
      "execution_count": 19,
      "outputs": []
    },
    {
      "cell_type": "code",
      "source": [
        "rs = 42\n",
        "torch.manual_seed(rs)\n",
        "x3 = torch.rand(7,7)\n",
        "\n",
        "torch.manual_seed(rs)\n",
        "x4 = torch.rand(7,7)"
      ],
      "metadata": {
        "id": "YdQi2FZQx3yU"
      },
      "execution_count": 20,
      "outputs": []
    },
    {
      "cell_type": "code",
      "source": [
        "print(x3)\n",
        "print(x4)"
      ],
      "metadata": {
        "colab": {
          "base_uri": "https://localhost:8080/"
        },
        "id": "jSm6eqKGyHIt",
        "outputId": "c9be631f-6eec-4587-930d-eaec3257c19a"
      },
      "execution_count": 21,
      "outputs": [
        {
          "output_type": "stream",
          "name": "stdout",
          "text": [
            "tensor([[0.8823, 0.9150, 0.3829, 0.9593, 0.3904, 0.6009, 0.2566],\n",
            "        [0.7936, 0.9408, 0.1332, 0.9346, 0.5936, 0.8694, 0.5677],\n",
            "        [0.7411, 0.4294, 0.8854, 0.5739, 0.2666, 0.6274, 0.2696],\n",
            "        [0.4414, 0.2969, 0.8317, 0.1053, 0.2695, 0.3588, 0.1994],\n",
            "        [0.5472, 0.0062, 0.9516, 0.0753, 0.8860, 0.5832, 0.3376],\n",
            "        [0.8090, 0.5779, 0.9040, 0.5547, 0.3423, 0.6343, 0.3644],\n",
            "        [0.7104, 0.9464, 0.7890, 0.2814, 0.7886, 0.5895, 0.7539]])\n",
            "tensor([[0.8823, 0.9150, 0.3829, 0.9593, 0.3904, 0.6009, 0.2566],\n",
            "        [0.7936, 0.9408, 0.1332, 0.9346, 0.5936, 0.8694, 0.5677],\n",
            "        [0.7411, 0.4294, 0.8854, 0.5739, 0.2666, 0.6274, 0.2696],\n",
            "        [0.4414, 0.2969, 0.8317, 0.1053, 0.2695, 0.3588, 0.1994],\n",
            "        [0.5472, 0.0062, 0.9516, 0.0753, 0.8860, 0.5832, 0.3376],\n",
            "        [0.8090, 0.5779, 0.9040, 0.5547, 0.3423, 0.6343, 0.3644],\n",
            "        [0.7104, 0.9464, 0.7890, 0.2814, 0.7886, 0.5895, 0.7539]])\n"
          ]
        }
      ]
    },
    {
      "cell_type": "code",
      "source": [
        "x3 == x4"
      ],
      "metadata": {
        "colab": {
          "base_uri": "https://localhost:8080/"
        },
        "id": "2Vosbwt9yLun",
        "outputId": "95107098-588f-48fa-b6b5-031150da4c1c"
      },
      "execution_count": 22,
      "outputs": [
        {
          "output_type": "execute_result",
          "data": {
            "text/plain": [
              "tensor([[True, True, True, True, True, True, True],\n",
              "        [True, True, True, True, True, True, True],\n",
              "        [True, True, True, True, True, True, True],\n",
              "        [True, True, True, True, True, True, True],\n",
              "        [True, True, True, True, True, True, True],\n",
              "        [True, True, True, True, True, True, True],\n",
              "        [True, True, True, True, True, True, True]])"
            ]
          },
          "metadata": {},
          "execution_count": 22
        }
      ]
    },
    {
      "cell_type": "code",
      "source": [
        "torch.matmul(x4, x3)"
      ],
      "metadata": {
        "colab": {
          "base_uri": "https://localhost:8080/"
        },
        "id": "7wbobvkjyQ_k",
        "outputId": "4e499bb9-7e35-420d-8e42-8d3fd3119544"
      },
      "execution_count": 23,
      "outputs": [
        {
          "output_type": "execute_result",
          "data": {
            "text/plain": [
              "tensor([[3.0938, 2.7098, 2.7137, 2.4572, 2.0022, 2.6702, 1.5846],\n",
              "        [3.3895, 2.9893, 3.1231, 2.5021, 2.4269, 2.9460, 1.9052],\n",
              "        [2.7491, 2.2521, 2.6359, 2.1248, 1.5986, 2.2926, 1.3090],\n",
              "        [1.8673, 1.4693, 1.7706, 1.4647, 1.1175, 1.5853, 0.8991],\n",
              "        [2.4226, 1.5995, 2.7522, 1.5699, 1.7422, 2.0439, 1.1817],\n",
              "        [3.0465, 2.5504, 2.8351, 2.3736, 1.8572, 2.5716, 1.5115],\n",
              "        [3.5308, 3.0218, 3.2089, 2.6470, 2.6204, 3.1240, 2.0379]])"
            ]
          },
          "metadata": {},
          "execution_count": 23
        }
      ]
    },
    {
      "cell_type": "markdown",
      "source": [
        "# 5. Speaking of random seeds, we saw how to set it with torch.manual_seed() but is there a GPU equivalent? (hint: you'll need to look into the documentation for torch.cuda for this one)"
      ],
      "metadata": {
        "id": "cUFoRQ76yWYy"
      }
    },
    {
      "cell_type": "code",
      "source": [
        "torch.cuda.is_available()"
      ],
      "metadata": {
        "colab": {
          "base_uri": "https://localhost:8080/"
        },
        "id": "6CDoKA5Iyd-T",
        "outputId": "0feddd1a-20fb-457d-c680-4095757064e8"
      },
      "execution_count": 24,
      "outputs": [
        {
          "output_type": "execute_result",
          "data": {
            "text/plain": [
              "False"
            ]
          },
          "metadata": {},
          "execution_count": 24
        }
      ]
    },
    {
      "cell_type": "code",
      "source": [
        "import torch\n",
        "torch.cuda.is_available()"
      ],
      "metadata": {
        "id": "lZcr0kuxykCZ",
        "colab": {
          "base_uri": "https://localhost:8080/"
        },
        "outputId": "942c5e07-6790-46a8-adfc-10a91412b162"
      },
      "execution_count": 1,
      "outputs": [
        {
          "output_type": "execute_result",
          "data": {
            "text/plain": [
              "True"
            ]
          },
          "metadata": {},
          "execution_count": 1
        }
      ]
    },
    {
      "cell_type": "code",
      "source": [
        "device = \"cuda\" if torch.cuda.is_available() else \"cpu\"\n",
        "device"
      ],
      "metadata": {
        "colab": {
          "base_uri": "https://localhost:8080/",
          "height": 35
        },
        "id": "qoxxkQQuy4Wa",
        "outputId": "acab2e99-981a-494a-efaf-7efbd3299ed5"
      },
      "execution_count": 2,
      "outputs": [
        {
          "output_type": "execute_result",
          "data": {
            "text/plain": [
              "'cuda'"
            ],
            "application/vnd.google.colaboratory.intrinsic+json": {
              "type": "string"
            }
          },
          "metadata": {},
          "execution_count": 2
        }
      ]
    },
    {
      "cell_type": "code",
      "source": [
        "# Move tensor to GPU (if available)\n",
        "torch.manual_seed(1234)\n",
        "tensor = torch.rand(2,3)\n",
        "tensor_on_gpu = tensor.to(device)\n",
        "tensor_on_gpu"
      ],
      "metadata": {
        "colab": {
          "base_uri": "https://localhost:8080/"
        },
        "id": "No2QWl6J0wTq",
        "outputId": "a4cb1076-3cb4-4ac5-b201-f4d640bc41ce"
      },
      "execution_count": 7,
      "outputs": [
        {
          "output_type": "execute_result",
          "data": {
            "text/plain": [
              "tensor([[0.0290, 0.4019, 0.2598],\n",
              "        [0.3666, 0.0583, 0.7006]], device='cuda:0')"
            ]
          },
          "metadata": {},
          "execution_count": 7
        }
      ]
    },
    {
      "cell_type": "code",
      "source": [
        "torch.manual_seed(12345)\n",
        "tensor = torch.rand(2,2)\n",
        "tensor_on_gpu1 = tensor.to(device)\n",
        "tensor_on_gpu1"
      ],
      "metadata": {
        "colab": {
          "base_uri": "https://localhost:8080/"
        },
        "id": "wM5-vnFg0wPi",
        "outputId": "46b5e464-ce48-4ef1-a5fc-165ca92811ae"
      },
      "execution_count": 10,
      "outputs": [
        {
          "output_type": "execute_result",
          "data": {
            "text/plain": [
              "tensor([[0.9817, 0.8796],\n",
              "        [0.9921, 0.4611]], device='cuda:0')"
            ]
          },
          "metadata": {},
          "execution_count": 10
        }
      ]
    },
    {
      "cell_type": "code",
      "source": [
        "x5 = torch.matmul(tensor_on_gpu1, tensor_on_gpu)\n",
        "x5"
      ],
      "metadata": {
        "colab": {
          "base_uri": "https://localhost:8080/"
        },
        "id": "QtH7X6sg0wLb",
        "outputId": "6f8fed94-1e51-4b89-bd68-42ccdb1aaa66"
      },
      "execution_count": 13,
      "outputs": [
        {
          "output_type": "execute_result",
          "data": {
            "text/plain": [
              "tensor([[1.3693, 0.9367, 1.1310],\n",
              "        [1.1866, 0.9111, 1.0666]], device='cuda:0')"
            ]
          },
          "metadata": {},
          "execution_count": 13
        }
      ]
    },
    {
      "cell_type": "markdown",
      "source": [
        "# 8. Find the maximum and minimum values of the output of 7."
      ],
      "metadata": {
        "id": "Pu1JAl4-0wIK"
      }
    },
    {
      "cell_type": "code",
      "source": [
        "x6 = torch.rand(2,8)\n",
        "x6_tensor_gpu = x6.to(device)\n",
        "print(x6_tensor_gpu)\n",
        "\n",
        "\n",
        "print(x6[0].max())\n",
        "print(x6[1].min())"
      ],
      "metadata": {
        "colab": {
          "base_uri": "https://localhost:8080/"
        },
        "id": "AHpgvivF3C6J",
        "outputId": "137fa06b-9244-470d-f9e0-139525c01231"
      },
      "execution_count": 21,
      "outputs": [
        {
          "output_type": "stream",
          "name": "stdout",
          "text": [
            "tensor([[0.4976, 0.8073, 0.0570, 0.1124, 0.4085, 0.0044, 0.5679, 0.1460],\n",
            "        [0.0512, 0.2969, 0.2321, 0.4974, 0.8351, 0.3782, 0.5995, 0.7259]],\n",
            "       device='cuda:0')\n",
            "tensor(0.8073)\n",
            "tensor(0.0512)\n"
          ]
        }
      ]
    },
    {
      "cell_type": "code",
      "source": [
        "print(torch.argmin(x6))\n",
        "print(torch.argmax(x6))"
      ],
      "metadata": {
        "colab": {
          "base_uri": "https://localhost:8080/"
        },
        "id": "E2swTSsJ3LPm",
        "outputId": "1e150034-5373-4c16-9f50-a3ed96b3545c"
      },
      "execution_count": 22,
      "outputs": [
        {
          "output_type": "stream",
          "name": "stdout",
          "text": [
            "tensor(5)\n",
            "tensor(12)\n"
          ]
        }
      ]
    },
    {
      "cell_type": "markdown",
      "source": [
        "# 10. Make a random tensor with shape (1, 1, 1, 10) and then create a new tensor with all the 1 dimensions removed to be left with a tensor of shape (10). Set the seed to 7 when you create it and print out the first tensor and it's shape as well as the second tensor and it's shape."
      ],
      "metadata": {
        "id": "C0TH4mZj4UEh"
      }
    },
    {
      "cell_type": "code",
      "source": [
        "# Set seed\n",
        "random_seed = 1\n",
        "\n",
        "\n",
        "# Create random tensor\n",
        "x10 = torch.rand(1,2,3,10)\n",
        "print(x10, x10.shape)\n",
        "# Remove single dimensions\n",
        "x11 = x10.squeeze()\n",
        "print(x11, x11.shape)\n",
        "# Print out tensors and their shapes\n"
      ],
      "metadata": {
        "colab": {
          "base_uri": "https://localhost:8080/"
        },
        "id": "OrlWYIzH4nKH",
        "outputId": "04db9d90-036d-4cf9-8e93-c24d635467f8"
      },
      "execution_count": 41,
      "outputs": [
        {
          "output_type": "stream",
          "name": "stdout",
          "text": [
            "tensor([[[[0.1041, 0.2280, 0.8485, 0.6139, 0.1944, 0.7805, 0.7996, 0.8769,\n",
            "           0.6012, 0.7412],\n",
            "          [0.1063, 0.2787, 0.6082, 0.5024, 0.3549, 0.3679, 0.3155, 0.8677,\n",
            "           0.2898, 0.8331],\n",
            "          [0.0681, 0.6789, 0.0883, 0.6627, 0.2596, 0.8588, 0.1166, 0.9973,\n",
            "           0.9586, 0.6843]],\n",
            "\n",
            "         [[0.9813, 0.0216, 0.4806, 0.0933, 0.8174, 0.4458, 0.7935, 0.3980,\n",
            "           0.7111, 0.8914],\n",
            "          [0.1505, 0.9581, 0.0098, 0.4619, 0.3816, 0.3493, 0.9959, 0.1873,\n",
            "           0.5190, 0.5262],\n",
            "          [0.6771, 0.3853, 0.8833, 0.9625, 0.2096, 0.3479, 0.1446, 0.7914,\n",
            "           0.0367, 0.3327]]]]) torch.Size([1, 2, 3, 10])\n",
            "tensor([[[0.1041, 0.2280, 0.8485, 0.6139, 0.1944, 0.7805, 0.7996, 0.8769,\n",
            "          0.6012, 0.7412],\n",
            "         [0.1063, 0.2787, 0.6082, 0.5024, 0.3549, 0.3679, 0.3155, 0.8677,\n",
            "          0.2898, 0.8331],\n",
            "         [0.0681, 0.6789, 0.0883, 0.6627, 0.2596, 0.8588, 0.1166, 0.9973,\n",
            "          0.9586, 0.6843]],\n",
            "\n",
            "        [[0.9813, 0.0216, 0.4806, 0.0933, 0.8174, 0.4458, 0.7935, 0.3980,\n",
            "          0.7111, 0.8914],\n",
            "         [0.1505, 0.9581, 0.0098, 0.4619, 0.3816, 0.3493, 0.9959, 0.1873,\n",
            "          0.5190, 0.5262],\n",
            "         [0.6771, 0.3853, 0.8833, 0.9625, 0.2096, 0.3479, 0.1446, 0.7914,\n",
            "          0.0367, 0.3327]]]) torch.Size([2, 3, 10])\n"
          ]
        }
      ]
    },
    {
      "cell_type": "code",
      "source": [],
      "metadata": {
        "id": "7k0X1_Gn5E2a"
      },
      "execution_count": 41,
      "outputs": []
    }
  ]
}